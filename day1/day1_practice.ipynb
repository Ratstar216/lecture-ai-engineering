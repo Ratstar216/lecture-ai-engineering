{
  "cells": [
    {
      "cell_type": "markdown",
      "metadata": {
        "id": "gSpnWBP5ELSI"
      },
      "source": [
        "# 実践演習 Day 1：streamlitとFastAPIのデモ\n",
        "このノートブックでは以下の内容を学習します。\n",
        "\n",
        "- 必要なライブラリのインストールと環境設定\n",
        "- Hugging Faceからモデルを用いたStreamlitのデモアプリ\n",
        "- FastAPIとngrokを使用したAPIの公開方法\n",
        "\n",
        "演習を始める前に、HuggingFaceとngrokのアカウントを作成し、\n",
        "それぞれのAPIトークンを取得する必要があります。\n",
        "\n",
        "\n",
        "演習の時間では、以下の3つのディレクトリを順に説明します。\n",
        "\n",
        "1. 01_streamlit_UI\n",
        "2. 02_streamlit_app\n",
        "3. 03_FastAPI\n",
        "\n",
        "2つ目や3つ目からでも始められる様にノートブックを作成しています。\n",
        "\n",
        "復習の際にもこのノートブックを役立てていただければと思います。\n",
        "\n",
        "### 注意事項\n",
        "「02_streamlit_app」と「03_FastAPI」では、GPUを使用します。\n",
        "\n",
        "これらを実行する際は、Google Colab画面上のメニューから「編集」→ 「ノートブックの設定」\n",
        "\n",
        "「ハードウェアアクセラレーター」の項目の中から、「T4 GPU」を選択してください。\n",
        "\n",
        "このノートブックのデフォルトは「CPU」になっています。\n",
        "\n",
        "---"
      ]
    },
    {
      "cell_type": "markdown",
      "metadata": {
        "id": "OhtHkJOgELSL"
      },
      "source": [
        "# 環境変数の設定（1~3共有）\n"
      ]
    },
    {
      "cell_type": "markdown",
      "metadata": {
        "id": "Y-FjBp4MMQHM"
      },
      "source": [
        "GitHubから演習用のコードをCloneします。"
      ]
    },
    {
      "cell_type": "code",
      "source": [
        "!pwd\n",
        "!rm -rf lecture-ai-engineering/"
      ],
      "metadata": {
        "id": "EmXLtaGcAlOk",
        "outputId": "68a8d6d1-5ef7-45a1-fb24-47164b8da93a",
        "colab": {
          "base_uri": "https://localhost:8080/"
        }
      },
      "execution_count": 6,
      "outputs": [
        {
          "output_type": "stream",
          "name": "stdout",
          "text": [
            "/content\n"
          ]
        }
      ]
    },
    {
      "cell_type": "code",
      "execution_count": 1,
      "metadata": {
        "id": "AIXMavdDEP8U",
        "outputId": "fd2f03bc-6457-455c-b36b-e94f652328a4",
        "colab": {
          "base_uri": "https://localhost:8080/"
        }
      },
      "outputs": [
        {
          "output_type": "stream",
          "name": "stdout",
          "text": [
            "Cloning into 'lecture-ai-engineering'...\n",
            "remote: Enumerating objects: 41, done.\u001b[K\n",
            "remote: Counting objects: 100% (32/32), done.\u001b[K\n",
            "remote: Compressing objects: 100% (27/27), done.\u001b[K\n",
            "Receiving objects: 100% (41/41), 34.04 KiB | 11.35 MiB/s, done.\n",
            "Resolving deltas: 100% (7/7), done.\n",
            "remote: Total 41 (delta 7), reused 5 (delta 5), pack-reused 9 (from 1)\u001b[K\n"
          ]
        }
      ],
      "source": [
        "!git clone https://github.com/Ratstar216/lecture-ai-engineering.git"
      ]
    },
    {
      "cell_type": "markdown",
      "metadata": {
        "id": "XC8n7yZ_vs1K"
      },
      "source": [
        "必要なAPIトークンを.envに設定します。\n",
        "\n",
        "「lecture-ai-engineering/day1」の配下に、「.env_template」ファイルが存在しています。\n",
        "\n",
        "隠しファイルのため表示されていない場合は、画面左側のある、目のアイコンの「隠しファイルの表示」ボタンを押してください。\n",
        "\n",
        "「.env_template」のファイル名を「.env」に変更します。「.env」ファイルを開くと、以下のような中身になっています。\n",
        "\n",
        "\n",
        "```\n",
        "HUGGINGFACE_TOKEN=\"hf-********\"\n",
        "NGROK_TOKEN=\"********\"\n",
        "```\n",
        "ダブルクオーテーションで囲まれた文字列をHuggingfaceのアクセストークンと、ngrokの認証トークンで書き変えてください。\n",
        "\n",
        "それぞれのアカウントが作成済みであれば、以下のURLからそれぞれのトークンを取得できます。\n",
        "\n",
        "- Huggingfaceのアクセストークン\n",
        "https://huggingface.co/docs/hub/security-tokens\n",
        "\n",
        "- ngrokの認証トークン\n",
        "https://dashboard.ngrok.com/get-started/your-authtoken\n",
        "\n",
        "書き換えたら、「.env」ファイルをローカルのPCにダウンロードしてください。\n",
        "\n",
        "「01_streamlit_UI」から「02_streamlit_app」へ進む際に、CPUからGPUの利用に切り替えるため、セッションが一度切れてしまいます。\n",
        "\n",
        "その際に、トークンを設定した「.env」ファイルは再作成することになるので、その手間を減らすために「.env」ファイルをダウンロードしておくと良いです。"
      ]
    },
    {
      "cell_type": "markdown",
      "metadata": {
        "id": "Py1BFS5RqcSS"
      },
      "source": [
        "「.env」ファイルを読み込み、環境変数として設定します。次のセルを実行し、最終的に「True」が表示されていればうまく読み込めています。"
      ]
    },
    {
      "cell_type": "code",
      "source": [
        "%cd /content/lecture-ai-engineering/day1\n",
        "!touch .env"
      ],
      "metadata": {
        "id": "vtDPE0RiDbly",
        "outputId": "721ded9d-4865-4964-e57b-e6103a89c93d",
        "colab": {
          "base_uri": "https://localhost:8080/"
        }
      },
      "execution_count": 2,
      "outputs": [
        {
          "output_type": "stream",
          "name": "stdout",
          "text": [
            "/content/lecture-ai-engineering/day1\n"
          ]
        }
      ]
    },
    {
      "cell_type": "code",
      "execution_count": 11,
      "metadata": {
        "id": "bvEowFfg5lrq",
        "outputId": "0ffbdda2-e61e-4a7d-d90a-6a65c77d29c4",
        "colab": {
          "base_uri": "https://localhost:8080/"
        }
      },
      "outputs": [
        {
          "output_type": "stream",
          "name": "stdout",
          "text": [
            "Requirement already satisfied: python-dotenv in /usr/local/lib/python3.11/dist-packages (1.1.0)\n",
            "/content/lecture-ai-engineering/day1\n"
          ]
        },
        {
          "output_type": "execute_result",
          "data": {
            "text/plain": [
              "True"
            ]
          },
          "metadata": {},
          "execution_count": 11
        }
      ],
      "source": [
        "!pip install python-dotenv\n",
        "from dotenv import load_dotenv, find_dotenv\n",
        "\n",
        "%cd /content/lecture-ai-engineering/day1\n",
        "load_dotenv(find_dotenv())"
      ]
    },
    {
      "cell_type": "markdown",
      "metadata": {
        "id": "os0Yk6gaELSM"
      },
      "source": [
        "# 01_streamlit_UI\n",
        "\n",
        "ディレクトリ「01_streamlit_UI」に移動します。"
      ]
    },
    {
      "cell_type": "code",
      "execution_count": 25,
      "metadata": {
        "id": "S28XgOm0ELSM",
        "outputId": "13b6679c-cf6a-44d3-a928-3fa4ad66753c",
        "colab": {
          "base_uri": "https://localhost:8080/"
        }
      },
      "outputs": [
        {
          "output_type": "stream",
          "name": "stdout",
          "text": [
            "/content/lecture-ai-engineering/day1/01_streamlit_UI\n"
          ]
        }
      ],
      "source": [
        "%cd /content/lecture-ai-engineering/day1/01_streamlit_UI"
      ]
    },
    {
      "cell_type": "markdown",
      "metadata": {
        "id": "eVp-aEIkELSM"
      },
      "source": [
        "必要なライブラリをインストールします。"
      ]
    },
    {
      "cell_type": "code",
      "execution_count": 26,
      "metadata": {
        "id": "nBe41LFiELSN"
      },
      "outputs": [],
      "source": [
        "%%capture\n",
        "!pip install -r requirements.txt"
      ]
    },
    {
      "cell_type": "markdown",
      "metadata": {
        "id": "Yyw6VHaTELSN"
      },
      "source": [
        "ngrokのトークンを使用して、認証を行います。"
      ]
    },
    {
      "cell_type": "code",
      "execution_count": 27,
      "metadata": {
        "id": "aYw1q0iXELSN",
        "outputId": "a36bab12-18b1-4239-fe91-8a3e926b0510",
        "colab": {
          "base_uri": "https://localhost:8080/"
        }
      },
      "outputs": [
        {
          "output_type": "stream",
          "name": "stdout",
          "text": [
            "Authtoken saved to configuration file: /root/.config/ngrok/ngrok.yml\n"
          ]
        }
      ],
      "source": [
        "!ngrok authtoken $$NGROK_TOKEN"
      ]
    },
    {
      "cell_type": "markdown",
      "metadata": {
        "id": "RssTcD_IELSN"
      },
      "source": [
        "アプリを起動します。"
      ]
    },
    {
      "cell_type": "code",
      "execution_count": 28,
      "metadata": {
        "id": "f-E7ucR6ELSN",
        "outputId": "16b20bc8-f1d4-4f5a-aef8-9effbe310494",
        "colab": {
          "base_uri": "https://localhost:8080/"
        }
      },
      "outputs": [
        {
          "output_type": "stream",
          "name": "stdout",
          "text": [
            "公開URL: https://b828-34-13-150-83.ngrok-free.app\n",
            "\n",
            "Collecting usage statistics. To deactivate, set browser.gatherUsageStats to false.\n",
            "\u001b[0m\n",
            "\u001b[0m\n",
            "\u001b[34m\u001b[1m  You can now view your Streamlit app in your browser.\u001b[0m\n",
            "\u001b[0m\n",
            "\u001b[34m  Local URL: \u001b[0m\u001b[1mhttp://localhost:8501\u001b[0m\n",
            "\u001b[34m  Network URL: \u001b[0m\u001b[1mhttp://172.28.0.12:8501\u001b[0m\n",
            "\u001b[34m  External URL: \u001b[0m\u001b[1mhttp://34.13.150.83:8501\u001b[0m\n",
            "\u001b[0m\n",
            "\u001b[31m──\u001b[0m\u001b[31m────────────────────────\u001b[0m\u001b[31m \u001b[0m\u001b[1;31mTraceback \u001b[0m\u001b[1;2;31m(most recent call last)\u001b[0m\u001b[31m \u001b[0m\u001b[31m─────────────────────────\u001b[0m\u001b[31m──\u001b[0m\n",
            "\u001b[31m \u001b[0m \u001b[2;33m/usr/local/lib/python3.11/dist-packages/streamlit/runtime/scriptrunner/\u001b[0m\u001b[1;33mexec_code.py\u001b[0m: \u001b[31m \u001b[0m\n",
            "\u001b[31m \u001b[0m \u001b[94m121\u001b[0m in \u001b[92mexec_func_with_error_handling\u001b[0m                                                 \u001b[31m \u001b[0m\n",
            "\u001b[31m \u001b[0m                                                                                      \u001b[31m \u001b[0m\n",
            "\u001b[31m \u001b[0m \u001b[2;33m/usr/local/lib/python3.11/dist-packages/streamlit/runtime/scriptrunner/\u001b[0m\u001b[1;33mscript_runner\u001b[0m \u001b[31m \u001b[0m\n",
            "\u001b[31m \u001b[0m \u001b[1;33m.py\u001b[0m:\u001b[94m640\u001b[0m in \u001b[92mcode_to_exec\u001b[0m                                                              \u001b[31m \u001b[0m\n",
            "\u001b[31m \u001b[0m                                                                                      \u001b[31m \u001b[0m\n",
            "\u001b[31m \u001b[0m \u001b[2;33m/content/lecture-ai-engineering/day1/01_streamlit_UI/\u001b[0m\u001b[1;33mapp.py\u001b[0m:\u001b[94m170\u001b[0m in \u001b[92m<module>\u001b[0m          \u001b[31m \u001b[0m\n",
            "\u001b[31m \u001b[0m                                                                                      \u001b[31m \u001b[0m\n",
            "\u001b[31m \u001b[0m   \u001b[2m167 \u001b[0m\u001b[2m# ============================================\u001b[0m                                 \u001b[31m \u001b[0m\n",
            "\u001b[31m \u001b[0m   \u001b[2m168 \u001b[0m\u001b[2m# st.header(\"スタイルのカスタマイズ\")\u001b[0m                                          \u001b[31m \u001b[0m\n",
            "\u001b[31m \u001b[0m   \u001b[2m169 \u001b[0m                                                                               \u001b[31m \u001b[0m\n",
            "\u001b[31m \u001b[0m \u001b[31m❱ \u001b[0m170 \u001b[1;2;4m# カスタムCSS\u001b[0m                                                                  \u001b[31m \u001b[0m\n",
            "\u001b[31m \u001b[0m   \u001b[2m171 \u001b[0m\u001b[2m# st.markdown(\"\"\"\u001b[0m                                                              \u001b[31m \u001b[0m\n",
            "\u001b[31m \u001b[0m   \u001b[2m172 \u001b[0m\u001b[2m# <style>\u001b[0m                                                                      \u001b[31m \u001b[0m\n",
            "\u001b[31m \u001b[0m   \u001b[2m173 \u001b[0m\u001b[2m# .big-font {\u001b[0m                                                                  \u001b[31m \u001b[0m\n",
            "\u001b[31m────────────────────────────────────────────────────────────────────────────────────────\u001b[0m\n",
            "\u001b[1;91mNameError: \u001b[0mname \u001b[32m'カスタムCSS'\u001b[0m is not defined\n",
            "\u001b[31m──\u001b[0m\u001b[31m────────────────────────\u001b[0m\u001b[31m \u001b[0m\u001b[1;31mTraceback \u001b[0m\u001b[1;2;31m(most recent call last)\u001b[0m\u001b[31m \u001b[0m\u001b[31m─────────────────────────\u001b[0m\u001b[31m──\u001b[0m\n",
            "\u001b[31m \u001b[0m \u001b[2;33m/usr/local/lib/python3.11/dist-packages/streamlit/runtime/scriptrunner/\u001b[0m\u001b[1;33mexec_code.py\u001b[0m: \u001b[31m \u001b[0m\n",
            "\u001b[31m \u001b[0m \u001b[94m121\u001b[0m in \u001b[92mexec_func_with_error_handling\u001b[0m                                                 \u001b[31m \u001b[0m\n",
            "\u001b[31m \u001b[0m                                                                                      \u001b[31m \u001b[0m\n",
            "\u001b[31m \u001b[0m \u001b[2;33m/usr/local/lib/python3.11/dist-packages/streamlit/runtime/scriptrunner/\u001b[0m\u001b[1;33mscript_runner\u001b[0m \u001b[31m \u001b[0m\n",
            "\u001b[31m \u001b[0m \u001b[1;33m.py\u001b[0m:\u001b[94m640\u001b[0m in \u001b[92mcode_to_exec\u001b[0m                                                              \u001b[31m \u001b[0m\n",
            "\u001b[31m \u001b[0m                                                                                      \u001b[31m \u001b[0m\n",
            "\u001b[31m \u001b[0m \u001b[2;33m/content/lecture-ai-engineering/day1/01_streamlit_UI/\u001b[0m\u001b[1;33mapp.py\u001b[0m:\u001b[94m170\u001b[0m in \u001b[92m<module>\u001b[0m          \u001b[31m \u001b[0m\n",
            "\u001b[31m \u001b[0m                                                                                      \u001b[31m \u001b[0m\n",
            "\u001b[31m \u001b[0m   \u001b[2m167 \u001b[0m\u001b[2m# ============================================\u001b[0m                                 \u001b[31m \u001b[0m\n",
            "\u001b[31m \u001b[0m   \u001b[2m168 \u001b[0mst.header(\u001b[33m\"\u001b[0m\u001b[33mスタイルのカスタマイズ\u001b[0m\u001b[33m\"\u001b[0m)                                            \u001b[31m \u001b[0m\n",
            "\u001b[31m \u001b[0m   \u001b[2m169 \u001b[0m                                                                               \u001b[31m \u001b[0m\n",
            "\u001b[31m \u001b[0m \u001b[31m❱ \u001b[0m170 \u001b[1;4mカスタムCSS\u001b[0m                                                                    \u001b[31m \u001b[0m\n",
            "\u001b[31m \u001b[0m   \u001b[2m171 \u001b[0mst.markdown(\u001b[33m\"\"\"\u001b[0m                                                                \u001b[31m \u001b[0m\n",
            "\u001b[31m \u001b[0m   \u001b[2m172 \u001b[0m\u001b[33m<style>\u001b[0m                                                                        \u001b[31m \u001b[0m\n",
            "\u001b[31m \u001b[0m   \u001b[2m173 \u001b[0m\u001b[33m.big-font \u001b[0m\u001b[33m{\u001b[0m                                                                    \u001b[31m \u001b[0m\n",
            "\u001b[31m────────────────────────────────────────────────────────────────────────────────────────\u001b[0m\n",
            "\u001b[1;91mNameError: \u001b[0mname \u001b[32m'カスタムCSS'\u001b[0m is not defined\n",
            "\u001b[31m──\u001b[0m\u001b[31m────────────────────────\u001b[0m\u001b[31m \u001b[0m\u001b[1;31mTraceback \u001b[0m\u001b[1;2;31m(most recent call last)\u001b[0m\u001b[31m \u001b[0m\u001b[31m─────────────────────────\u001b[0m\u001b[31m──\u001b[0m\n",
            "\u001b[31m \u001b[0m \u001b[2;33m/usr/local/lib/python3.11/dist-packages/streamlit/runtime/scriptrunner/\u001b[0m\u001b[1;33mexec_code.py\u001b[0m: \u001b[31m \u001b[0m\n",
            "\u001b[31m \u001b[0m \u001b[94m121\u001b[0m in \u001b[92mexec_func_with_error_handling\u001b[0m                                                 \u001b[31m \u001b[0m\n",
            "\u001b[31m \u001b[0m                                                                                      \u001b[31m \u001b[0m\n",
            "\u001b[31m \u001b[0m \u001b[2;33m/usr/local/lib/python3.11/dist-packages/streamlit/runtime/scriptrunner/\u001b[0m\u001b[1;33mscript_runner\u001b[0m \u001b[31m \u001b[0m\n",
            "\u001b[31m \u001b[0m \u001b[1;33m.py\u001b[0m:\u001b[94m640\u001b[0m in \u001b[92mcode_to_exec\u001b[0m                                                              \u001b[31m \u001b[0m\n",
            "\u001b[31m \u001b[0m                                                                                      \u001b[31m \u001b[0m\n",
            "\u001b[31m \u001b[0m \u001b[2;33m/content/lecture-ai-engineering/day1/01_streamlit_UI/\u001b[0m\u001b[1;33mapp.py\u001b[0m:\u001b[94m170\u001b[0m in \u001b[92m<module>\u001b[0m          \u001b[31m \u001b[0m\n",
            "\u001b[31m \u001b[0m                                                                                      \u001b[31m \u001b[0m\n",
            "\u001b[31m \u001b[0m   \u001b[2m167 \u001b[0m\u001b[2m# ============================================\u001b[0m                                 \u001b[31m \u001b[0m\n",
            "\u001b[31m \u001b[0m   \u001b[2m168 \u001b[0mst.header(\u001b[33m\"\u001b[0m\u001b[33mスタイルのカスタマイズ\u001b[0m\u001b[33m\"\u001b[0m)                                            \u001b[31m \u001b[0m\n",
            "\u001b[31m \u001b[0m   \u001b[2m169 \u001b[0m                                                                               \u001b[31m \u001b[0m\n",
            "\u001b[31m \u001b[0m \u001b[31m❱ \u001b[0m170 \u001b[1;4mカスタムCSS\u001b[0m                                                                    \u001b[31m \u001b[0m\n",
            "\u001b[31m \u001b[0m   \u001b[2m171 \u001b[0mst.markdown(\u001b[33m\"\"\"\u001b[0m                                                                \u001b[31m \u001b[0m\n",
            "\u001b[31m \u001b[0m   \u001b[2m172 \u001b[0m\u001b[33m<style>\u001b[0m                                                                        \u001b[31m \u001b[0m\n",
            "\u001b[31m \u001b[0m   \u001b[2m173 \u001b[0m\u001b[33m.big-font \u001b[0m\u001b[33m{\u001b[0m                                                                    \u001b[31m \u001b[0m\n",
            "\u001b[31m────────────────────────────────────────────────────────────────────────────────────────\u001b[0m\n",
            "\u001b[1;91mNameError: \u001b[0mname \u001b[32m'カスタムCSS'\u001b[0m is not defined\n",
            "\u001b[31m──\u001b[0m\u001b[31m────────────────────────\u001b[0m\u001b[31m \u001b[0m\u001b[1;31mTraceback \u001b[0m\u001b[1;2;31m(most recent call last)\u001b[0m\u001b[31m \u001b[0m\u001b[31m─────────────────────────\u001b[0m\u001b[31m──\u001b[0m\n",
            "\u001b[31m \u001b[0m \u001b[2;33m/usr/local/lib/python3.11/dist-packages/streamlit/runtime/scriptrunner/\u001b[0m\u001b[1;33mexec_code.py\u001b[0m: \u001b[31m \u001b[0m\n",
            "\u001b[31m \u001b[0m \u001b[94m121\u001b[0m in \u001b[92mexec_func_with_error_handling\u001b[0m                                                 \u001b[31m \u001b[0m\n",
            "\u001b[31m \u001b[0m                                                                                      \u001b[31m \u001b[0m\n",
            "\u001b[31m \u001b[0m \u001b[2;33m/usr/local/lib/python3.11/dist-packages/streamlit/runtime/scriptrunner/\u001b[0m\u001b[1;33mscript_runner\u001b[0m \u001b[31m \u001b[0m\n",
            "\u001b[31m \u001b[0m \u001b[1;33m.py\u001b[0m:\u001b[94m640\u001b[0m in \u001b[92mcode_to_exec\u001b[0m                                                              \u001b[31m \u001b[0m\n",
            "\u001b[31m \u001b[0m                                                                                      \u001b[31m \u001b[0m\n",
            "\u001b[31m \u001b[0m \u001b[2;33m/content/lecture-ai-engineering/day1/01_streamlit_UI/\u001b[0m\u001b[1;33mapp.py\u001b[0m:\u001b[94m170\u001b[0m in \u001b[92m<module>\u001b[0m          \u001b[31m \u001b[0m\n",
            "\u001b[31m \u001b[0m                                                                                      \u001b[31m \u001b[0m\n",
            "\u001b[31m \u001b[0m   \u001b[2m167 \u001b[0m\u001b[2m# ============================================\u001b[0m                                 \u001b[31m \u001b[0m\n",
            "\u001b[31m \u001b[0m   \u001b[2m168 \u001b[0mst.header(\u001b[33m\"\u001b[0m\u001b[33mスタイルのカスタマイズ\u001b[0m\u001b[33m\"\u001b[0m)                                            \u001b[31m \u001b[0m\n",
            "\u001b[31m \u001b[0m   \u001b[2m169 \u001b[0m                                                                               \u001b[31m \u001b[0m\n",
            "\u001b[31m \u001b[0m \u001b[31m❱ \u001b[0m170 \u001b[1;4mカスタムCSS\u001b[0m                                                                    \u001b[31m \u001b[0m\n",
            "\u001b[31m \u001b[0m   \u001b[2m171 \u001b[0mst.markdown(\u001b[33m\"\"\"\u001b[0m                                                                \u001b[31m \u001b[0m\n",
            "\u001b[31m \u001b[0m   \u001b[2m172 \u001b[0m\u001b[33m<style>\u001b[0m                                                                        \u001b[31m \u001b[0m\n",
            "\u001b[31m \u001b[0m   \u001b[2m173 \u001b[0m\u001b[33m.big-font \u001b[0m\u001b[33m{\u001b[0m                                                                    \u001b[31m \u001b[0m\n",
            "\u001b[31m────────────────────────────────────────────────────────────────────────────────────────\u001b[0m\n",
            "\u001b[1;91mNameError: \u001b[0mname \u001b[32m'カスタムCSS'\u001b[0m is not defined\n",
            "\u001b[31m──\u001b[0m\u001b[31m────────────────────────\u001b[0m\u001b[31m \u001b[0m\u001b[1;31mTraceback \u001b[0m\u001b[1;2;31m(most recent call last)\u001b[0m\u001b[31m \u001b[0m\u001b[31m─────────────────────────\u001b[0m\u001b[31m──\u001b[0m\n",
            "\u001b[31m \u001b[0m \u001b[2;33m/usr/local/lib/python3.11/dist-packages/streamlit/runtime/scriptrunner/\u001b[0m\u001b[1;33mexec_code.py\u001b[0m: \u001b[31m \u001b[0m\n",
            "\u001b[31m \u001b[0m \u001b[94m121\u001b[0m in \u001b[92mexec_func_with_error_handling\u001b[0m                                                 \u001b[31m \u001b[0m\n",
            "\u001b[31m \u001b[0m                                                                                      \u001b[31m \u001b[0m\n",
            "\u001b[31m \u001b[0m \u001b[2;33m/usr/local/lib/python3.11/dist-packages/streamlit/runtime/scriptrunner/\u001b[0m\u001b[1;33mscript_runner\u001b[0m \u001b[31m \u001b[0m\n",
            "\u001b[31m \u001b[0m \u001b[1;33m.py\u001b[0m:\u001b[94m640\u001b[0m in \u001b[92mcode_to_exec\u001b[0m                                                              \u001b[31m \u001b[0m\n",
            "\u001b[31m \u001b[0m                                                                                      \u001b[31m \u001b[0m\n",
            "\u001b[31m \u001b[0m \u001b[2;33m/content/lecture-ai-engineering/day1/01_streamlit_UI/\u001b[0m\u001b[1;33mapp.py\u001b[0m:\u001b[94m170\u001b[0m in \u001b[92m<module>\u001b[0m          \u001b[31m \u001b[0m\n",
            "\u001b[31m \u001b[0m                                                                                      \u001b[31m \u001b[0m\n",
            "\u001b[31m \u001b[0m   \u001b[2m167 \u001b[0m\u001b[2m# ============================================\u001b[0m                                 \u001b[31m \u001b[0m\n",
            "\u001b[31m \u001b[0m   \u001b[2m168 \u001b[0mst.header(\u001b[33m\"\u001b[0m\u001b[33mスタイルのカスタマイズ\u001b[0m\u001b[33m\"\u001b[0m)                                            \u001b[31m \u001b[0m\n",
            "\u001b[31m \u001b[0m   \u001b[2m169 \u001b[0m                                                                               \u001b[31m \u001b[0m\n",
            "\u001b[31m \u001b[0m \u001b[31m❱ \u001b[0m170 \u001b[1;4mカスタムCSS\u001b[0m                                                                    \u001b[31m \u001b[0m\n",
            "\u001b[31m \u001b[0m   \u001b[2m171 \u001b[0mst.markdown(\u001b[33m\"\"\"\u001b[0m                                                                \u001b[31m \u001b[0m\n",
            "\u001b[31m \u001b[0m   \u001b[2m172 \u001b[0m\u001b[33m<style>\u001b[0m                                                                        \u001b[31m \u001b[0m\n",
            "\u001b[31m \u001b[0m   \u001b[2m173 \u001b[0m\u001b[33m.big-font \u001b[0m\u001b[33m{\u001b[0m                                                                    \u001b[31m \u001b[0m\n",
            "\u001b[31m────────────────────────────────────────────────────────────────────────────────────────\u001b[0m\n",
            "\u001b[1;91mNameError: \u001b[0mname \u001b[32m'カスタムCSS'\u001b[0m is not defined\n",
            "\u001b[31m──\u001b[0m\u001b[31m────────────────────────\u001b[0m\u001b[31m \u001b[0m\u001b[1;31mTraceback \u001b[0m\u001b[1;2;31m(most recent call last)\u001b[0m\u001b[31m \u001b[0m\u001b[31m─────────────────────────\u001b[0m\u001b[31m──\u001b[0m\n",
            "\u001b[31m \u001b[0m \u001b[2;33m/usr/local/lib/python3.11/dist-packages/streamlit/runtime/scriptrunner/\u001b[0m\u001b[1;33mexec_code.py\u001b[0m: \u001b[31m \u001b[0m\n",
            "\u001b[31m \u001b[0m \u001b[94m121\u001b[0m in \u001b[92mexec_func_with_error_handling\u001b[0m                                                 \u001b[31m \u001b[0m\n",
            "\u001b[31m \u001b[0m                                                                                      \u001b[31m \u001b[0m\n",
            "\u001b[31m \u001b[0m \u001b[2;33m/usr/local/lib/python3.11/dist-packages/streamlit/runtime/scriptrunner/\u001b[0m\u001b[1;33mscript_runner\u001b[0m \u001b[31m \u001b[0m\n",
            "\u001b[31m \u001b[0m \u001b[1;33m.py\u001b[0m:\u001b[94m640\u001b[0m in \u001b[92mcode_to_exec\u001b[0m                                                              \u001b[31m \u001b[0m\n",
            "\u001b[31m \u001b[0m                                                                                      \u001b[31m \u001b[0m\n",
            "\u001b[31m \u001b[0m \u001b[2;33m/content/lecture-ai-engineering/day1/01_streamlit_UI/\u001b[0m\u001b[1;33mapp.py\u001b[0m:\u001b[94m170\u001b[0m in \u001b[92m<module>\u001b[0m          \u001b[31m \u001b[0m\n",
            "\u001b[31m \u001b[0m                                                                                      \u001b[31m \u001b[0m\n",
            "\u001b[31m \u001b[0m   \u001b[2m167 \u001b[0m\u001b[2m# ============================================\u001b[0m                                 \u001b[31m \u001b[0m\n",
            "\u001b[31m \u001b[0m   \u001b[2m168 \u001b[0mst.header(\u001b[33m\"\u001b[0m\u001b[33mスタイルのカスタマイズ\u001b[0m\u001b[33m\"\u001b[0m)                                            \u001b[31m \u001b[0m\n",
            "\u001b[31m \u001b[0m   \u001b[2m169 \u001b[0m                                                                               \u001b[31m \u001b[0m\n",
            "\u001b[31m \u001b[0m \u001b[31m❱ \u001b[0m170 \u001b[1;4mカスタムCSS\u001b[0m                                                                    \u001b[31m \u001b[0m\n",
            "\u001b[31m \u001b[0m   \u001b[2m171 \u001b[0mst.markdown(\u001b[33m\"\"\"\u001b[0m                                                                \u001b[31m \u001b[0m\n",
            "\u001b[31m \u001b[0m   \u001b[2m172 \u001b[0m\u001b[33m<style>\u001b[0m                                                                        \u001b[31m \u001b[0m\n",
            "\u001b[31m \u001b[0m   \u001b[2m173 \u001b[0m\u001b[33m.big-font \u001b[0m\u001b[33m{\u001b[0m                                                                    \u001b[31m \u001b[0m\n",
            "\u001b[31m────────────────────────────────────────────────────────────────────────────────────────\u001b[0m\n",
            "\u001b[1;91mNameError: \u001b[0mname \u001b[32m'カスタムCSS'\u001b[0m is not defined\n",
            "\u001b[31m──\u001b[0m\u001b[31m────────────────────────\u001b[0m\u001b[31m \u001b[0m\u001b[1;31mTraceback \u001b[0m\u001b[1;2;31m(most recent call last)\u001b[0m\u001b[31m \u001b[0m\u001b[31m─────────────────────────\u001b[0m\u001b[31m──\u001b[0m\n",
            "\u001b[31m \u001b[0m \u001b[2;33m/usr/local/lib/python3.11/dist-packages/streamlit/runtime/scriptrunner/\u001b[0m\u001b[1;33mexec_code.py\u001b[0m: \u001b[31m \u001b[0m\n",
            "\u001b[31m \u001b[0m \u001b[94m121\u001b[0m in \u001b[92mexec_func_with_error_handling\u001b[0m                                                 \u001b[31m \u001b[0m\n",
            "\u001b[31m \u001b[0m                                                                                      \u001b[31m \u001b[0m\n",
            "\u001b[31m \u001b[0m \u001b[2;33m/usr/local/lib/python3.11/dist-packages/streamlit/runtime/scriptrunner/\u001b[0m\u001b[1;33mscript_runner\u001b[0m \u001b[31m \u001b[0m\n",
            "\u001b[31m \u001b[0m \u001b[1;33m.py\u001b[0m:\u001b[94m640\u001b[0m in \u001b[92mcode_to_exec\u001b[0m                                                              \u001b[31m \u001b[0m\n",
            "\u001b[31m \u001b[0m                                                                                      \u001b[31m \u001b[0m\n",
            "\u001b[31m \u001b[0m \u001b[2;33m/content/lecture-ai-engineering/day1/01_streamlit_UI/\u001b[0m\u001b[1;33mapp.py\u001b[0m:\u001b[94m170\u001b[0m in \u001b[92m<module>\u001b[0m          \u001b[31m \u001b[0m\n",
            "\u001b[31m \u001b[0m                                                                                      \u001b[31m \u001b[0m\n",
            "\u001b[31m \u001b[0m   \u001b[2m167 \u001b[0m\u001b[2m# ============================================\u001b[0m                                 \u001b[31m \u001b[0m\n",
            "\u001b[31m \u001b[0m   \u001b[2m168 \u001b[0mst.header(\u001b[33m\"\u001b[0m\u001b[33mスタイルのカスタマイズ\u001b[0m\u001b[33m\"\u001b[0m)                                            \u001b[31m \u001b[0m\n",
            "\u001b[31m \u001b[0m   \u001b[2m169 \u001b[0m                                                                               \u001b[31m \u001b[0m\n",
            "\u001b[31m \u001b[0m \u001b[31m❱ \u001b[0m170 \u001b[1;4mカスタムCSS\u001b[0m                                                                    \u001b[31m \u001b[0m\n",
            "\u001b[31m \u001b[0m   \u001b[2m171 \u001b[0mst.markdown(\u001b[33m\"\"\"\u001b[0m                                                                \u001b[31m \u001b[0m\n",
            "\u001b[31m \u001b[0m   \u001b[2m172 \u001b[0m\u001b[33m<style>\u001b[0m                                                                        \u001b[31m \u001b[0m\n",
            "\u001b[31m \u001b[0m   \u001b[2m173 \u001b[0m\u001b[33m.big-font \u001b[0m\u001b[33m{\u001b[0m                                                                    \u001b[31m \u001b[0m\n",
            "\u001b[31m────────────────────────────────────────────────────────────────────────────────────────\u001b[0m\n",
            "\u001b[1;91mNameError: \u001b[0mname \u001b[32m'カスタムCSS'\u001b[0m is not defined\n",
            "\u001b[31m──\u001b[0m\u001b[31m────────────────────────\u001b[0m\u001b[31m \u001b[0m\u001b[1;31mTraceback \u001b[0m\u001b[1;2;31m(most recent call last)\u001b[0m\u001b[31m \u001b[0m\u001b[31m─────────────────────────\u001b[0m\u001b[31m──\u001b[0m\n",
            "\u001b[31m \u001b[0m \u001b[2;33m/usr/local/lib/python3.11/dist-packages/streamlit/runtime/scriptrunner/\u001b[0m\u001b[1;33mexec_code.py\u001b[0m: \u001b[31m \u001b[0m\n",
            "\u001b[31m \u001b[0m \u001b[94m121\u001b[0m in \u001b[92mexec_func_with_error_handling\u001b[0m                                                 \u001b[31m \u001b[0m\n",
            "\u001b[31m \u001b[0m                                                                                      \u001b[31m \u001b[0m\n",
            "\u001b[31m \u001b[0m \u001b[2;33m/usr/local/lib/python3.11/dist-packages/streamlit/runtime/scriptrunner/\u001b[0m\u001b[1;33mscript_runner\u001b[0m \u001b[31m \u001b[0m\n",
            "\u001b[31m \u001b[0m \u001b[1;33m.py\u001b[0m:\u001b[94m640\u001b[0m in \u001b[92mcode_to_exec\u001b[0m                                                              \u001b[31m \u001b[0m\n",
            "\u001b[31m \u001b[0m                                                                                      \u001b[31m \u001b[0m\n",
            "\u001b[31m \u001b[0m \u001b[2;33m/content/lecture-ai-engineering/day1/01_streamlit_UI/\u001b[0m\u001b[1;33mapp.py\u001b[0m:\u001b[94m170\u001b[0m in \u001b[92m<module>\u001b[0m          \u001b[31m \u001b[0m\n",
            "\u001b[31m \u001b[0m                                                                                      \u001b[31m \u001b[0m\n",
            "\u001b[31m \u001b[0m   \u001b[2m167 \u001b[0m\u001b[2m# ============================================\u001b[0m                                 \u001b[31m \u001b[0m\n",
            "\u001b[31m \u001b[0m   \u001b[2m168 \u001b[0mst.header(\u001b[33m\"\u001b[0m\u001b[33mスタイルのカスタマイズ\u001b[0m\u001b[33m\"\u001b[0m)                                            \u001b[31m \u001b[0m\n",
            "\u001b[31m \u001b[0m   \u001b[2m169 \u001b[0m                                                                               \u001b[31m \u001b[0m\n",
            "\u001b[31m \u001b[0m \u001b[31m❱ \u001b[0m170 \u001b[1;4mカスタムCSS\u001b[0m                                                                    \u001b[31m \u001b[0m\n",
            "\u001b[31m \u001b[0m   \u001b[2m171 \u001b[0mst.markdown(\u001b[33m\"\"\"\u001b[0m                                                                \u001b[31m \u001b[0m\n",
            "\u001b[31m \u001b[0m   \u001b[2m172 \u001b[0m\u001b[33m<style>\u001b[0m                                                                        \u001b[31m \u001b[0m\n",
            "\u001b[31m \u001b[0m   \u001b[2m173 \u001b[0m\u001b[33m.big-font \u001b[0m\u001b[33m{\u001b[0m                                                                    \u001b[31m \u001b[0m\n",
            "\u001b[31m────────────────────────────────────────────────────────────────────────────────────────\u001b[0m\n",
            "\u001b[1;91mNameError: \u001b[0mname \u001b[32m'カスタムCSS'\u001b[0m is not defined\n",
            "\u001b[31m──\u001b[0m\u001b[31m────────────────────────\u001b[0m\u001b[31m \u001b[0m\u001b[1;31mTraceback \u001b[0m\u001b[1;2;31m(most recent call last)\u001b[0m\u001b[31m \u001b[0m\u001b[31m─────────────────────────\u001b[0m\u001b[31m──\u001b[0m\n",
            "\u001b[31m \u001b[0m \u001b[2;33m/usr/local/lib/python3.11/dist-packages/streamlit/runtime/scriptrunner/\u001b[0m\u001b[1;33mexec_code.py\u001b[0m: \u001b[31m \u001b[0m\n",
            "\u001b[31m \u001b[0m \u001b[94m121\u001b[0m in \u001b[92mexec_func_with_error_handling\u001b[0m                                                 \u001b[31m \u001b[0m\n",
            "\u001b[31m \u001b[0m                                                                                      \u001b[31m \u001b[0m\n",
            "\u001b[31m \u001b[0m \u001b[2;33m/usr/local/lib/python3.11/dist-packages/streamlit/runtime/scriptrunner/\u001b[0m\u001b[1;33mscript_runner\u001b[0m \u001b[31m \u001b[0m\n",
            "\u001b[31m \u001b[0m \u001b[1;33m.py\u001b[0m:\u001b[94m640\u001b[0m in \u001b[92mcode_to_exec\u001b[0m                                                              \u001b[31m \u001b[0m\n",
            "\u001b[31m \u001b[0m                                                                                      \u001b[31m \u001b[0m\n",
            "\u001b[31m \u001b[0m \u001b[2;33m/content/lecture-ai-engineering/day1/01_streamlit_UI/\u001b[0m\u001b[1;33mapp.py\u001b[0m:\u001b[94m170\u001b[0m in \u001b[92m<module>\u001b[0m          \u001b[31m \u001b[0m\n",
            "\u001b[31m \u001b[0m                                                                                      \u001b[31m \u001b[0m\n",
            "\u001b[31m \u001b[0m   \u001b[2m167 \u001b[0m\u001b[2m# ============================================\u001b[0m                                 \u001b[31m \u001b[0m\n",
            "\u001b[31m \u001b[0m   \u001b[2m168 \u001b[0mst.header(\u001b[33m\"\u001b[0m\u001b[33mスタイルのカスタマイズ\u001b[0m\u001b[33m\"\u001b[0m)                                            \u001b[31m \u001b[0m\n",
            "\u001b[31m \u001b[0m   \u001b[2m169 \u001b[0m                                                                               \u001b[31m \u001b[0m\n",
            "\u001b[31m \u001b[0m \u001b[31m❱ \u001b[0m170 \u001b[1;4mカスタムCSS\u001b[0m                                                                    \u001b[31m \u001b[0m\n",
            "\u001b[31m \u001b[0m   \u001b[2m171 \u001b[0mst.markdown(\u001b[33m\"\"\"\u001b[0m                                                                \u001b[31m \u001b[0m\n",
            "\u001b[31m \u001b[0m   \u001b[2m172 \u001b[0m\u001b[33m<style>\u001b[0m                                                                        \u001b[31m \u001b[0m\n",
            "\u001b[31m \u001b[0m   \u001b[2m173 \u001b[0m\u001b[33m.big-font \u001b[0m\u001b[33m{\u001b[0m                                                                    \u001b[31m \u001b[0m\n",
            "\u001b[31m────────────────────────────────────────────────────────────────────────────────────────\u001b[0m\n",
            "\u001b[1;91mNameError: \u001b[0mname \u001b[32m'カスタムCSS'\u001b[0m is not defined\n",
            "\u001b[31m──\u001b[0m\u001b[31m────────────────────────\u001b[0m\u001b[31m \u001b[0m\u001b[1;31mTraceback \u001b[0m\u001b[1;2;31m(most recent call last)\u001b[0m\u001b[31m \u001b[0m\u001b[31m─────────────────────────\u001b[0m\u001b[31m──\u001b[0m\n",
            "\u001b[31m \u001b[0m \u001b[2;33m/usr/local/lib/python3.11/dist-packages/streamlit/runtime/scriptrunner/\u001b[0m\u001b[1;33mexec_code.py\u001b[0m: \u001b[31m \u001b[0m\n",
            "\u001b[31m \u001b[0m \u001b[94m121\u001b[0m in \u001b[92mexec_func_with_error_handling\u001b[0m                                                 \u001b[31m \u001b[0m\n",
            "\u001b[31m \u001b[0m                                                                                      \u001b[31m \u001b[0m\n",
            "\u001b[31m \u001b[0m \u001b[2;33m/usr/local/lib/python3.11/dist-packages/streamlit/runtime/scriptrunner/\u001b[0m\u001b[1;33mscript_runner\u001b[0m \u001b[31m \u001b[0m\n",
            "\u001b[31m \u001b[0m \u001b[1;33m.py\u001b[0m:\u001b[94m640\u001b[0m in \u001b[92mcode_to_exec\u001b[0m                                                              \u001b[31m \u001b[0m\n",
            "\u001b[31m \u001b[0m                                                                                      \u001b[31m \u001b[0m\n",
            "\u001b[31m \u001b[0m \u001b[2;33m/content/lecture-ai-engineering/day1/01_streamlit_UI/\u001b[0m\u001b[1;33mapp.py\u001b[0m:\u001b[94m170\u001b[0m in \u001b[92m<module>\u001b[0m          \u001b[31m \u001b[0m\n",
            "\u001b[31m \u001b[0m                                                                                      \u001b[31m \u001b[0m\n",
            "\u001b[31m \u001b[0m   \u001b[2m167 \u001b[0m\u001b[2m# ============================================\u001b[0m                                 \u001b[31m \u001b[0m\n",
            "\u001b[31m \u001b[0m   \u001b[2m168 \u001b[0mst.header(\u001b[33m\"\u001b[0m\u001b[33mスタイルのカスタマイズ\u001b[0m\u001b[33m\"\u001b[0m)                                            \u001b[31m \u001b[0m\n",
            "\u001b[31m \u001b[0m   \u001b[2m169 \u001b[0m                                                                               \u001b[31m \u001b[0m\n",
            "\u001b[31m \u001b[0m \u001b[31m❱ \u001b[0m170 \u001b[1;4mカスタムCSS\u001b[0m                                                                    \u001b[31m \u001b[0m\n",
            "\u001b[31m \u001b[0m   \u001b[2m171 \u001b[0mst.markdown(\u001b[33m\"\"\"\u001b[0m                                                                \u001b[31m \u001b[0m\n",
            "\u001b[31m \u001b[0m   \u001b[2m172 \u001b[0m\u001b[33m<style>\u001b[0m                                                                        \u001b[31m \u001b[0m\n",
            "\u001b[31m \u001b[0m   \u001b[2m173 \u001b[0m\u001b[33m.big-font \u001b[0m\u001b[33m{\u001b[0m                                                                    \u001b[31m \u001b[0m\n",
            "\u001b[31m────────────────────────────────────────────────────────────────────────────────────────\u001b[0m\n",
            "\u001b[1;91mNameError: \u001b[0mname \u001b[32m'カスタムCSS'\u001b[0m is not defined\n",
            "\u001b[31m──\u001b[0m\u001b[31m────────────────────────\u001b[0m\u001b[31m \u001b[0m\u001b[1;31mTraceback \u001b[0m\u001b[1;2;31m(most recent call last)\u001b[0m\u001b[31m \u001b[0m\u001b[31m─────────────────────────\u001b[0m\u001b[31m──\u001b[0m\n",
            "\u001b[31m \u001b[0m \u001b[2;33m/usr/local/lib/python3.11/dist-packages/streamlit/runtime/scriptrunner/\u001b[0m\u001b[1;33mexec_code.py\u001b[0m: \u001b[31m \u001b[0m\n",
            "\u001b[31m \u001b[0m \u001b[94m121\u001b[0m in \u001b[92mexec_func_with_error_handling\u001b[0m                                                 \u001b[31m \u001b[0m\n",
            "\u001b[31m \u001b[0m                                                                                      \u001b[31m \u001b[0m\n",
            "\u001b[31m \u001b[0m \u001b[2;33m/usr/local/lib/python3.11/dist-packages/streamlit/runtime/scriptrunner/\u001b[0m\u001b[1;33mscript_runner\u001b[0m \u001b[31m \u001b[0m\n",
            "\u001b[31m \u001b[0m \u001b[1;33m.py\u001b[0m:\u001b[94m640\u001b[0m in \u001b[92mcode_to_exec\u001b[0m                                                              \u001b[31m \u001b[0m\n",
            "\u001b[31m \u001b[0m                                                                                      \u001b[31m \u001b[0m\n",
            "\u001b[31m \u001b[0m \u001b[2;33m/content/lecture-ai-engineering/day1/01_streamlit_UI/\u001b[0m\u001b[1;33mapp.py\u001b[0m:\u001b[94m170\u001b[0m in \u001b[92m<module>\u001b[0m          \u001b[31m \u001b[0m\n",
            "\u001b[31m \u001b[0m                                                                                      \u001b[31m \u001b[0m\n",
            "\u001b[31m \u001b[0m   \u001b[2m167 \u001b[0m\u001b[2m# ============================================\u001b[0m                                 \u001b[31m \u001b[0m\n",
            "\u001b[31m \u001b[0m   \u001b[2m168 \u001b[0mst.header(\u001b[33m\"\u001b[0m\u001b[33mスタイルのカスタマイズ\u001b[0m\u001b[33m\"\u001b[0m)                                            \u001b[31m \u001b[0m\n",
            "\u001b[31m \u001b[0m   \u001b[2m169 \u001b[0m                                                                               \u001b[31m \u001b[0m\n",
            "\u001b[31m \u001b[0m \u001b[31m❱ \u001b[0m170 \u001b[1;4mカスタムCSS\u001b[0m                                                                    \u001b[31m \u001b[0m\n",
            "\u001b[31m \u001b[0m   \u001b[2m171 \u001b[0mst.markdown(\u001b[33m\"\"\"\u001b[0m                                                                \u001b[31m \u001b[0m\n",
            "\u001b[31m \u001b[0m   \u001b[2m172 \u001b[0m\u001b[33m<style>\u001b[0m                                                                        \u001b[31m \u001b[0m\n",
            "\u001b[31m \u001b[0m   \u001b[2m173 \u001b[0m\u001b[33m.big-font \u001b[0m\u001b[33m{\u001b[0m                                                                    \u001b[31m \u001b[0m\n",
            "\u001b[31m────────────────────────────────────────────────────────────────────────────────────────\u001b[0m\n",
            "\u001b[1;91mNameError: \u001b[0mname \u001b[32m'カスタムCSS'\u001b[0m is not defined\n",
            "\u001b[34m  Stopping...\u001b[0m\n",
            "\u001b[34m  Stopping...\u001b[0m\n"
          ]
        }
      ],
      "source": [
        "from pyngrok import ngrok\n",
        "\n",
        "public_url = ngrok.connect(8501).public_url\n",
        "print(f\"公開URL: {public_url}\")\n",
        "!streamlit run app.py"
      ]
    },
    {
      "cell_type": "markdown",
      "metadata": {
        "id": "kbYyXVFjELSN"
      },
      "source": [
        "公開URLの後に記載されているURLにブラウザでアクセスすると、streamlitのUIが表示されます。\n",
        "\n",
        "app.pyのコメントアウトされている箇所を編集することで、UIがどの様に変化するか確認してみましょう。\n",
        "\n",
        "streamlitの公式ページには、ギャラリーページがあります。\n",
        "\n",
        "streamlitを使うとpythonという一つの言語であっても、様々なUIを実現できることがわかると思います。\n",
        "\n",
        "https://streamlit.io/gallery"
      ]
    },
    {
      "cell_type": "markdown",
      "metadata": {
        "id": "MmtP5GLOELSN"
      },
      "source": [
        "後片付けとして、使う必要のないngrokのトンネルを削除します。"
      ]
    },
    {
      "cell_type": "code",
      "execution_count": 29,
      "metadata": {
        "id": "8Ek9QgahELSO"
      },
      "outputs": [],
      "source": [
        "from pyngrok import ngrok\n",
        "ngrok.kill()"
      ]
    },
    {
      "cell_type": "markdown",
      "metadata": {
        "id": "o-T8tFpyELSO"
      },
      "source": [
        "# 02_streamlit_app"
      ]
    },
    {
      "cell_type": "markdown",
      "metadata": {
        "id": "QqogFQKnELSO"
      },
      "source": [
        "\n",
        "ディレクトリ「02_streamlit_app」に移動します。"
      ]
    },
    {
      "cell_type": "code",
      "execution_count": 15,
      "metadata": {
        "id": "UeEjlJ7uELSO",
        "outputId": "977feb3d-4805-4038-91aa-ef37f58b4367",
        "colab": {
          "base_uri": "https://localhost:8080/"
        }
      },
      "outputs": [
        {
          "output_type": "stream",
          "name": "stdout",
          "text": [
            "/content/lecture-ai-engineering/day1/02_streamlit_app\n"
          ]
        }
      ],
      "source": [
        "%cd /content/lecture-ai-engineering/day1/02_streamlit_app"
      ]
    },
    {
      "cell_type": "markdown",
      "metadata": {
        "id": "-XUH2AstELSO"
      },
      "source": [
        "必要なライブラリをインストールします。"
      ]
    },
    {
      "cell_type": "code",
      "execution_count": 5,
      "metadata": {
        "id": "mDqvI4V3ELSO"
      },
      "outputs": [],
      "source": [
        "%%capture\n",
        "!pip install -r requirements.txt"
      ]
    },
    {
      "cell_type": "markdown",
      "metadata": {
        "id": "ZO31umGZELSO"
      },
      "source": [
        "ngrokとhuggigfaceのトークンを使用して、認証を行います。"
      ]
    },
    {
      "cell_type": "code",
      "execution_count": 12,
      "metadata": {
        "id": "jPxTiEWQELSO",
        "outputId": "d04617f5-7c6d-461a-d571-086b27d8342a",
        "colab": {
          "base_uri": "https://localhost:8080/"
        }
      },
      "outputs": [
        {
          "output_type": "stream",
          "name": "stdout",
          "text": [
            "Authtoken saved to configuration file: /root/.config/ngrok/ngrok.yml\n",
            "The token has not been saved to the git credentials helper. Pass `add_to_git_credential=True` in this function directly or `--add-to-git-credential` if using via `huggingface-cli` if you want to set the git credential as well.\n",
            "Token is valid (permission: read).\n",
            "The token `LLMstar` has been saved to /root/.cache/huggingface/stored_tokens\n",
            "Your token has been saved to /root/.cache/huggingface/token\n",
            "Login successful.\n",
            "The current active token is: `LLMstar`\n"
          ]
        }
      ],
      "source": [
        "!ngrok authtoken $$NGROK_TOKEN\n",
        "!huggingface-cli login --token $$HUGGINGFACE_TOKEN"
      ]
    },
    {
      "cell_type": "markdown",
      "metadata": {
        "id": "dz4WrELLELSP"
      },
      "source": [
        "stramlitでHuggingfaceのトークン情報を扱うために、streamlit用の設定ファイル（.streamlit）を作成し、トークンの情報を格納します。"
      ]
    },
    {
      "cell_type": "code",
      "execution_count": 20,
      "metadata": {
        "id": "W184-a7qFP0W"
      },
      "outputs": [],
      "source": [
        "# .streamlit/secrets.toml ファイルを作成\n",
        "import os\n",
        "import toml\n",
        "\n",
        "# 設定ファイルのディレクトリ確保\n",
        "os.makedirs('.streamlit', exist_ok=True)\n",
        "\n",
        "# 環境変数から取得したトークンを設定ファイルに書き込む\n",
        "secrets = {\n",
        "    \"huggingface\": {\n",
        "        \"token\": os.environ.get(\"HUGGINGFACE_TOKEN\", \"\")\n",
        "    }\n",
        "}\n",
        "\n",
        "# 設定ファイルを書き込む\n",
        "with open('.streamlit/secrets.toml', 'w') as f:\n",
        "    toml.dump(secrets, f)"
      ]
    },
    {
      "cell_type": "markdown",
      "metadata": {
        "id": "fK0vI_xKELSP"
      },
      "source": [
        "アプリを起動します。\n",
        "\n",
        "02_streamlit_appでは、Huggingfaceからモデルをダウンロードするため、初回起動には2分程度時間がかかります。\n",
        "\n",
        "この待ち時間を利用して、app.pyのコードを確認してみましょう。"
      ]
    },
    {
      "cell_type": "code",
      "execution_count": 22,
      "metadata": {
        "id": "TBQyTTWTELSP",
        "outputId": "78dade5d-31a6-4b21-e6e4-eb44e338b8eb",
        "colab": {
          "base_uri": "https://localhost:8080/"
        }
      },
      "outputs": [
        {
          "output_type": "stream",
          "name": "stdout",
          "text": [
            "公開URL: https://1578-34-87-62-26.ngrok-free.app\n",
            "\n",
            "Collecting usage statistics. To deactivate, set browser.gatherUsageStats to false.\n",
            "\u001b[0m\n",
            "\u001b[0m\n",
            "\u001b[34m\u001b[1m  You can now view your Streamlit app in your browser.\u001b[0m\n",
            "\u001b[0m\n",
            "\u001b[34m  Local URL: \u001b[0m\u001b[1mhttp://localhost:8501\u001b[0m\n",
            "\u001b[34m  Network URL: \u001b[0m\u001b[1mhttp://172.28.0.12:8501\u001b[0m\n",
            "\u001b[34m  External URL: \u001b[0m\u001b[1mhttp://34.87.62.26:8501\u001b[0m\n",
            "\u001b[0m\n",
            "NLTK loaded successfully.\n",
            "2025-04-23 06:42:36.912299: E external/local_xla/xla/stream_executor/cuda/cuda_fft.cc:477] Unable to register cuFFT factory: Attempting to register factory for plugin cuFFT when one has already been registered\n",
            "WARNING: All log messages before absl::InitializeLog() is called are written to STDERR\n",
            "E0000 00:00:1745390556.954219    7183 cuda_dnn.cc:8310] Unable to register cuDNN factory: Attempting to register factory for plugin cuDNN when one has already been registered\n",
            "E0000 00:00:1745390556.967355    7183 cuda_blas.cc:1418] Unable to register cuBLAS factory: Attempting to register factory for plugin cuBLAS when one has already been registered\n",
            "2025-04-23 06:42:37.010099: I tensorflow/core/platform/cpu_feature_guard.cc:210] This TensorFlow binary is optimized to use available CPU instructions in performance-critical operations.\n",
            "To enable the following instructions: AVX2 FMA, in other operations, rebuild TensorFlow with the appropriate compiler flags.\n",
            "NLTK Punkt data checked/downloaded.\n",
            "Database 'chat_feedback.db' initialized successfully.\n",
            "config.json: 100% 2.50k/2.50k [00:00<00:00, 15.4MB/s]\n",
            "model.safetensors.index.json: 100% 16.3k/16.3k [00:00<00:00, 53.2MB/s]\n",
            "Fetching 2 files:   0% 0/2 [00:00<?, ?it/s]\n",
            "model-00002-of-00002.safetensors:   0% 0.00/2.77G [00:00<?, ?B/s]\u001b[A\n",
            "\n",
            "model-00001-of-00002.safetensors:   0% 0.00/4.90G [00:00<?, ?B/s]\u001b[A\u001b[A\n",
            "model-00002-of-00002.safetensors:   1% 31.5M/2.77G [00:00<00:10, 273MB/s]\u001b[A\n",
            "\n",
            "model-00001-of-00002.safetensors:   0% 10.5M/4.90G [00:00<00:59, 82.4MB/s]\u001b[A\u001b[A\n",
            "model-00002-of-00002.safetensors:   3% 73.4M/2.77G [00:00<00:08, 312MB/s]\u001b[A\n",
            "\n",
            "model-00001-of-00002.safetensors:   1% 31.5M/4.90G [00:00<00:39, 122MB/s] \u001b[A\u001b[A\n",
            "\n",
            "model-00001-of-00002.safetensors:   1% 73.4M/4.90G [00:00<00:23, 209MB/s]\u001b[A\u001b[A\n",
            "model-00002-of-00002.safetensors:   4% 105M/2.77G [00:00<00:13, 204MB/s] \u001b[A\n",
            "\n",
            "model-00001-of-00002.safetensors:   2% 94.4M/4.90G [00:00<00:25, 187MB/s]\u001b[A\u001b[A\n",
            "model-00002-of-00002.safetensors:   5% 136M/2.77G [00:00<00:14, 179MB/s]\u001b[A\n",
            "\n",
            "model-00001-of-00002.safetensors:   2% 115M/4.90G [00:00<00:27, 172MB/s] \u001b[A\u001b[A\n",
            "\n",
            "model-00001-of-00002.safetensors:   3% 136M/4.90G [00:03<03:26, 23.1MB/s]\u001b[A\u001b[A\n",
            "model-00002-of-00002.safetensors:   6% 157M/2.77G [00:03<01:38, 26.5MB/s]\u001b[A\n",
            "\n",
            "model-00001-of-00002.safetensors:   3% 157M/4.90G [00:03<02:31, 31.2MB/s]\u001b[A\u001b[A\n",
            "model-00002-of-00002.safetensors:   7% 199M/2.77G [00:03<00:59, 43.2MB/s]\u001b[A\n",
            "\n",
            "model-00001-of-00002.safetensors:   4% 178M/4.90G [00:03<01:54, 41.2MB/s]\u001b[A\u001b[A\n",
            "model-00002-of-00002.safetensors:   8% 220M/2.77G [00:03<00:49, 52.0MB/s]\u001b[A\n",
            "\n",
            "model-00001-of-00002.safetensors:   4% 199M/4.90G [00:03<01:30, 52.0MB/s]\u001b[A\u001b[A\n",
            "model-00002-of-00002.safetensors:   9% 241M/2.77G [00:03<00:40, 62.5MB/s]\u001b[A\n",
            "\n",
            "model-00001-of-00002.safetensors:   4% 220M/4.90G [00:03<01:13, 64.1MB/s]\u001b[A\u001b[A\n",
            "model-00002-of-00002.safetensors:   9% 262M/2.77G [00:03<00:34, 73.2MB/s]\u001b[A\n",
            "\n",
            "model-00001-of-00002.safetensors:   5% 241M/4.90G [00:04<01:03, 73.9MB/s]\u001b[A\u001b[A\n",
            "model-00002-of-00002.safetensors:  10% 283M/2.77G [00:04<00:30, 81.7MB/s]\u001b[A\n",
            "\n",
            "model-00001-of-00002.safetensors:   5% 262M/4.90G [00:04<00:52, 89.0MB/s]\u001b[A\u001b[A\n",
            "model-00002-of-00002.safetensors:  11% 304M/2.77G [00:04<00:26, 93.3MB/s]\u001b[A\n",
            "\n",
            "model-00001-of-00002.safetensors:   6% 283M/4.90G [00:04<00:45, 101MB/s] \u001b[A\u001b[A\n",
            "model-00002-of-00002.safetensors:  12% 325M/2.77G [00:04<00:24, 99.9MB/s]\u001b[A\n",
            "\n",
            "model-00001-of-00002.safetensors:   6% 304M/4.90G [00:04<00:39, 117MB/s]\u001b[A\u001b[A\n",
            "model-00002-of-00002.safetensors:  12% 346M/2.77G [00:04<00:22, 110MB/s] \u001b[A\n",
            "\n",
            "model-00001-of-00002.safetensors:   7% 325M/4.90G [00:04<00:37, 124MB/s]\u001b[A\u001b[A\n",
            "model-00002-of-00002.safetensors:  13% 367M/2.77G [00:04<00:20, 117MB/s]\u001b[A\n",
            "\n",
            "model-00001-of-00002.safetensors:   7% 346M/4.90G [00:04<00:37, 121MB/s]\u001b[A\u001b[A\n",
            "model-00002-of-00002.safetensors:  14% 388M/2.77G [00:04<00:18, 130MB/s]\u001b[A\n",
            "\n",
            "model-00001-of-00002.safetensors:   7% 367M/4.90G [00:04<00:35, 129MB/s]\u001b[A\u001b[A\n",
            "model-00002-of-00002.safetensors:  15% 409M/2.77G [00:04<00:17, 135MB/s]\u001b[A\n",
            "model-00002-of-00002.safetensors:  16% 430M/2.77G [00:05<00:15, 149MB/s]\u001b[A\n",
            "\n",
            "model-00001-of-00002.safetensors:   8% 388M/4.90G [00:05<00:35, 129MB/s]\u001b[A\u001b[A\n",
            "model-00002-of-00002.safetensors:  16% 451M/2.77G [00:05<00:15, 147MB/s]\u001b[A\n",
            "\n",
            "model-00001-of-00002.safetensors:   8% 409M/4.90G [00:05<00:37, 120MB/s]\u001b[A\u001b[A\n",
            "model-00002-of-00002.safetensors:  17% 472M/2.77G [00:05<00:15, 145MB/s]\u001b[A\n",
            "\n",
            "model-00001-of-00002.safetensors:   9% 440M/4.90G [00:05<00:35, 125MB/s]\u001b[A\u001b[A\n",
            "model-00002-of-00002.safetensors:  18% 493M/2.77G [00:05<00:17, 132MB/s]\u001b[A\n",
            "\n",
            "model-00001-of-00002.safetensors:   9% 461M/4.90G [00:05<00:34, 129MB/s]\u001b[A\u001b[A\n",
            "model-00002-of-00002.safetensors:  19% 514M/2.77G [00:05<00:17, 129MB/s]\u001b[A\n",
            "\n",
            "model-00001-of-00002.safetensors:  10% 482M/4.90G [00:05<00:31, 142MB/s]\u001b[A\u001b[A\n",
            "model-00002-of-00002.safetensors:  19% 535M/2.77G [00:05<00:18, 123MB/s]\u001b[A\n",
            "\n",
            "model-00001-of-00002.safetensors:  10% 503M/4.90G [00:05<00:32, 136MB/s]\u001b[A\u001b[A\n",
            "model-00002-of-00002.safetensors:  20% 556M/2.77G [00:06<00:19, 116MB/s]\u001b[A\n",
            "\n",
            "model-00001-of-00002.safetensors:  11% 524M/4.90G [00:06<00:36, 121MB/s]\u001b[A\u001b[A\n",
            "model-00002-of-00002.safetensors:  21% 577M/2.77G [00:06<00:17, 122MB/s]\u001b[A\n",
            "\n",
            "model-00001-of-00002.safetensors:  11% 545M/4.90G [00:06<00:33, 131MB/s]\u001b[A\u001b[A\n",
            "model-00002-of-00002.safetensors:  22% 598M/2.77G [00:06<00:17, 122MB/s]\u001b[A\n",
            "\n",
            "model-00001-of-00002.safetensors:  12% 566M/4.90G [00:06<00:35, 121MB/s]\u001b[A\u001b[A\n",
            "model-00002-of-00002.safetensors:  22% 619M/2.77G [00:06<00:17, 121MB/s]\u001b[A\n",
            "\n",
            "model-00001-of-00002.safetensors:  12% 587M/4.90G [00:06<00:33, 127MB/s]\u001b[A\u001b[A\n",
            "model-00002-of-00002.safetensors:  23% 640M/2.77G [00:06<00:15, 133MB/s]\u001b[A\n",
            "\n",
            "model-00001-of-00002.safetensors:  12% 608M/4.90G [00:06<00:34, 123MB/s]\u001b[A\u001b[A\n",
            "model-00002-of-00002.safetensors:  24% 661M/2.77G [00:06<00:16, 131MB/s]\u001b[A\n",
            "\n",
            "model-00001-of-00002.safetensors:  13% 629M/4.90G [00:07<00:33, 127MB/s]\u001b[A\u001b[A\n",
            "model-00002-of-00002.safetensors:  25% 682M/2.77G [00:07<00:16, 128MB/s]\u001b[A\n",
            "\n",
            "model-00001-of-00002.safetensors:  13% 650M/4.90G [00:07<00:35, 121MB/s]\u001b[A\u001b[A\n",
            "model-00002-of-00002.safetensors:  25% 703M/2.77G [00:07<00:16, 126MB/s]\u001b[A\n",
            "\n",
            "model-00001-of-00002.safetensors:  14% 671M/4.90G [00:07<00:32, 129MB/s]\u001b[A\u001b[A\n",
            "model-00002-of-00002.safetensors:  26% 724M/2.77G [00:09<01:14, 27.4MB/s]\u001b[A\n",
            "\n",
            "model-00001-of-00002.safetensors:  14% 692M/4.90G [00:09<02:30, 27.9MB/s]\u001b[A\u001b[A\n",
            "model-00002-of-00002.safetensors:  27% 755M/2.77G [00:09<00:47, 42.5MB/s]\u001b[A\n",
            "\n",
            "model-00001-of-00002.safetensors:  15% 724M/4.90G [00:09<01:37, 42.9MB/s]\u001b[A\u001b[A\n",
            "model-00002-of-00002.safetensors:  28% 776M/2.77G [00:09<00:36, 53.9MB/s]\u001b[A\n",
            "\n",
            "model-00001-of-00002.safetensors:  15% 744M/4.90G [00:09<01:18, 52.8MB/s]\u001b[A\u001b[A\n",
            "model-00002-of-00002.safetensors:  29% 797M/2.77G [00:09<00:30, 65.6MB/s]\u001b[A\n",
            "\n",
            "model-00001-of-00002.safetensors:  16% 765M/4.90G [00:09<01:04, 64.5MB/s]\u001b[A\u001b[A\n",
            "model-00002-of-00002.safetensors:  30% 828M/2.77G [00:10<00:23, 84.2MB/s]\u001b[A\n",
            "\n",
            "model-00001-of-00002.safetensors:  16% 797M/4.90G [00:10<00:46, 88.4MB/s]\u001b[A\u001b[A\n",
            "model-00002-of-00002.safetensors:  31% 860M/2.77G [00:10<00:17, 110MB/s] \u001b[A\n",
            "\n",
            "model-00001-of-00002.safetensors:  17% 818M/4.90G [00:10<00:40, 102MB/s] \u001b[A\u001b[A\n",
            "model-00002-of-00002.safetensors:  32% 891M/2.77G [00:10<00:13, 135MB/s]\u001b[A\n",
            "\n",
            "model-00001-of-00002.safetensors:  17% 839M/4.90G [00:10<00:36, 110MB/s]\u001b[A\u001b[A\n",
            "model-00002-of-00002.safetensors:  33% 912M/2.77G [00:10<00:12, 145MB/s]\u001b[A\n",
            "\n",
            "model-00001-of-00002.safetensors:  18% 860M/4.90G [00:10<00:33, 121MB/s]\u001b[A\u001b[A\n",
            "\n",
            "model-00001-of-00002.safetensors:  18% 891M/4.90G [00:10<00:27, 148MB/s]\u001b[A\u001b[A\n",
            "\n",
            "model-00001-of-00002.safetensors:  19% 912M/4.90G [00:10<00:25, 156MB/s]\u001b[A\u001b[A\n",
            "model-00002-of-00002.safetensors:  34% 933M/2.77G [00:10<00:16, 109MB/s]\u001b[A\n",
            "\n",
            "model-00001-of-00002.safetensors:  19% 933M/4.90G [00:10<00:27, 145MB/s]\u001b[A\u001b[A\n",
            "model-00002-of-00002.safetensors:  34% 954M/2.77G [00:10<00:15, 114MB/s]\u001b[A\n",
            "\n",
            "model-00001-of-00002.safetensors:  19% 954M/4.90G [00:11<00:29, 133MB/s]\u001b[A\u001b[A\n",
            "model-00002-of-00002.safetensors:  35% 975M/2.77G [00:11<00:16, 111MB/s]\u001b[A\n",
            "\n",
            "model-00001-of-00002.safetensors:  20% 975M/4.90G [00:11<00:28, 139MB/s]\u001b[A\u001b[A\n",
            "model-00002-of-00002.safetensors:  36% 996M/2.77G [00:11<00:14, 121MB/s]\u001b[A\n",
            "\n",
            "model-00001-of-00002.safetensors:  20% 996M/4.90G [00:11<00:28, 136MB/s]\u001b[A\u001b[A\n",
            "model-00002-of-00002.safetensors:  37% 1.02G/2.77G [00:11<00:14, 123MB/s]\u001b[A\n",
            "\n",
            "model-00001-of-00002.safetensors:  21% 1.02G/4.90G [00:11<00:28, 136MB/s]\u001b[A\u001b[A\n",
            "model-00002-of-00002.safetensors:  37% 1.04G/2.77G [00:13<01:02, 27.7MB/s]\u001b[A\n",
            "\n",
            "model-00001-of-00002.safetensors:  21% 1.04G/4.90G [00:13<02:14, 28.7MB/s]\u001b[A\u001b[A\n",
            "model-00002-of-00002.safetensors:  39% 1.08G/2.77G [00:13<00:35, 47.7MB/s]\u001b[A\n",
            "model-00002-of-00002.safetensors:  41% 1.12G/2.77G [00:13<00:23, 70.7MB/s]\u001b[A\n",
            "\n",
            "model-00001-of-00002.safetensors:  21% 1.05G/4.90G [00:13<02:07, 30.2MB/s]\u001b[A\u001b[A\n",
            "\n",
            "model-00001-of-00002.safetensors:  22% 1.07G/4.90G [00:13<01:31, 42.0MB/s]\u001b[A\u001b[A\n",
            "model-00002-of-00002.safetensors:  41% 1.14G/2.77G [00:13<00:20, 77.6MB/s]\u001b[A\n",
            "\n",
            "model-00001-of-00002.safetensors:  22% 1.09G/4.90G [00:14<01:08, 55.3MB/s]\u001b[A\u001b[A\n",
            "model-00002-of-00002.safetensors:  42% 1.17G/2.77G [00:14<00:15, 99.9MB/s]\u001b[A\n",
            "\n",
            "model-00001-of-00002.safetensors:  23% 1.12G/4.90G [00:14<00:47, 80.4MB/s]\u001b[A\u001b[A\n",
            "model-00002-of-00002.safetensors:  43% 1.20G/2.77G [00:14<00:14, 112MB/s] \u001b[A\n",
            "model-00002-of-00002.safetensors:  44% 1.23G/2.77G [00:14<00:11, 133MB/s]\u001b[A\n",
            "\n",
            "model-00001-of-00002.safetensors:  24% 1.15G/4.90G [00:14<00:38, 98.5MB/s]\u001b[A\u001b[A\n",
            "model-00002-of-00002.safetensors:  45% 1.25G/2.77G [00:14<00:11, 131MB/s]\u001b[A\n",
            "\n",
            "model-00001-of-00002.safetensors:  24% 1.17G/4.90G [00:14<00:34, 109MB/s] \u001b[A\u001b[A\n",
            "model-00002-of-00002.safetensors:  46% 1.27G/2.77G [00:14<00:10, 144MB/s]\u001b[A\n",
            "\n",
            "model-00001-of-00002.safetensors:  24% 1.20G/4.90G [00:14<00:31, 119MB/s]\u001b[A\u001b[A\n",
            "model-00002-of-00002.safetensors:  47% 1.29G/2.77G [00:14<00:10, 135MB/s]\u001b[A\n",
            "\n",
            "model-00001-of-00002.safetensors:  25% 1.22G/4.90G [00:14<00:33, 110MB/s]\u001b[A\u001b[A\n",
            "model-00002-of-00002.safetensors:  47% 1.31G/2.77G [00:14<00:10, 135MB/s]\u001b[A\n",
            "\n",
            "model-00001-of-00002.safetensors:  25% 1.24G/4.90G [00:15<00:29, 124MB/s]\u001b[A\u001b[A\n",
            "model-00002-of-00002.safetensors:  48% 1.33G/2.77G [00:15<00:10, 133MB/s]\u001b[A\n",
            "\n",
            "model-00001-of-00002.safetensors:  26% 1.26G/4.90G [00:15<00:29, 125MB/s]\u001b[A\u001b[A\n",
            "model-00002-of-00002.safetensors:  49% 1.35G/2.77G [00:15<00:10, 133MB/s]\u001b[A\n",
            "\n",
            "model-00001-of-00002.safetensors:  26% 1.28G/4.90G [00:15<00:31, 116MB/s]\u001b[A\u001b[A\n",
            "model-00002-of-00002.safetensors:  50% 1.37G/2.77G [00:15<00:10, 138MB/s]\u001b[A\n",
            "\n",
            "model-00001-of-00002.safetensors:  27% 1.30G/4.90G [00:15<00:30, 118MB/s]\u001b[A\u001b[A\n",
            "model-00002-of-00002.safetensors:  50% 1.39G/2.77G [00:17<00:49, 27.9MB/s]\u001b[A\n",
            "\n",
            "model-00001-of-00002.safetensors:  27% 1.32G/4.90G [00:17<02:08, 27.9MB/s]\u001b[A\u001b[A\n",
            "model-00002-of-00002.safetensors:  52% 1.43G/2.77G [00:17<00:31, 42.1MB/s]\u001b[A\n",
            "\n",
            "model-00001-of-00002.safetensors:  28% 1.36G/4.90G [00:17<01:15, 47.1MB/s]\u001b[A\u001b[A\n",
            "model-00002-of-00002.safetensors:  52% 1.45G/2.77G [00:17<00:25, 52.3MB/s]\u001b[A\n",
            "\n",
            "model-00001-of-00002.safetensors:  28% 1.38G/4.90G [00:18<01:05, 53.9MB/s]\u001b[A\u001b[A\n",
            "model-00002-of-00002.safetensors:  53% 1.47G/2.77G [00:18<00:20, 62.8MB/s]\u001b[A\n",
            "model-00002-of-00002.safetensors:  54% 1.50G/2.77G [00:18<00:15, 84.5MB/s]\u001b[A\n",
            "\n",
            "model-00001-of-00002.safetensors:  29% 1.42G/4.90G [00:18<00:49, 69.8MB/s]\u001b[A\u001b[A\n",
            "model-00002-of-00002.safetensors:  55% 1.52G/2.77G [00:18<00:12, 98.2MB/s]\u001b[A\n",
            "\n",
            "model-00001-of-00002.safetensors:  29% 1.44G/4.90G [00:18<00:42, 82.1MB/s]\u001b[A\u001b[A\n",
            "model-00002-of-00002.safetensors:  56% 1.54G/2.77G [00:18<00:11, 107MB/s] \u001b[A\n",
            "\n",
            "model-00001-of-00002.safetensors:  30% 1.46G/4.90G [00:18<00:36, 93.4MB/s]\u001b[A\u001b[A\n",
            "model-00002-of-00002.safetensors:  56% 1.56G/2.77G [00:18<00:10, 114MB/s]\u001b[A\n",
            "\n",
            "model-00001-of-00002.safetensors:  30% 1.48G/4.90G [00:18<00:35, 97.0MB/s]\u001b[A\u001b[A\n",
            "model-00002-of-00002.safetensors:  57% 1.58G/2.77G [00:18<00:09, 131MB/s]\u001b[A\n",
            "model-00002-of-00002.safetensors:  58% 1.60G/2.77G [00:18<00:08, 135MB/s]\u001b[A\n",
            "\n",
            "model-00001-of-00002.safetensors:  31% 1.50G/4.90G [00:18<00:33, 100MB/s] \u001b[A\u001b[A\n",
            "model-00002-of-00002.safetensors:  59% 1.63G/2.77G [00:18<00:07, 150MB/s]\u001b[A\n",
            "\n",
            "model-00001-of-00002.safetensors:  31% 1.52G/4.90G [00:19<00:29, 116MB/s]\u001b[A\u001b[A\n",
            "model-00002-of-00002.safetensors:  59% 1.65G/2.77G [00:19<00:06, 161MB/s]\u001b[A\n",
            "\n",
            "model-00001-of-00002.safetensors:  31% 1.54G/4.90G [00:19<00:25, 130MB/s]\u001b[A\u001b[A\n",
            "model-00002-of-00002.safetensors:  60% 1.67G/2.77G [00:19<00:07, 151MB/s]\u001b[A\n",
            "\n",
            "model-00001-of-00002.safetensors:  32% 1.56G/4.90G [00:19<00:25, 130MB/s]\u001b[A\u001b[A\n",
            "model-00002-of-00002.safetensors:  61% 1.69G/2.77G [00:19<00:08, 130MB/s]\u001b[A\n",
            "\n",
            "model-00001-of-00002.safetensors:  32% 1.58G/4.90G [00:19<00:28, 118MB/s]\u001b[A\u001b[A\n",
            "\n",
            "model-00001-of-00002.safetensors:  33% 1.60G/4.90G [00:19<00:28, 115MB/s]\u001b[A\u001b[A\n",
            "model-00002-of-00002.safetensors:  62% 1.71G/2.77G [00:19<00:09, 115MB/s]\u001b[A\n",
            "\n",
            "model-00001-of-00002.safetensors:  33% 1.63G/4.90G [00:19<00:27, 119MB/s]\u001b[A\u001b[A\n",
            "model-00002-of-00002.safetensors:  62% 1.73G/2.77G [00:19<00:09, 110MB/s]\u001b[A\n",
            "\n",
            "model-00001-of-00002.safetensors:  34% 1.65G/4.90G [00:23<03:21, 16.2MB/s]\u001b[A\u001b[A\n",
            "model-00002-of-00002.safetensors:  63% 1.75G/2.77G [00:23<01:03, 16.0MB/s]\u001b[A\n",
            "\n",
            "model-00001-of-00002.safetensors:  34% 1.69G/4.90G [00:23<01:51, 28.8MB/s]\u001b[A\u001b[A\n",
            "model-00002-of-00002.safetensors:  64% 1.76G/2.77G [00:23<00:53, 18.7MB/s]\u001b[A\n",
            "\n",
            "model-00001-of-00002.safetensors:  35% 1.72G/4.90G [00:24<01:17, 41.2MB/s]\u001b[A\u001b[A\n",
            "model-00002-of-00002.safetensors:  64% 1.77G/2.77G [00:24<00:44, 22.4MB/s]\u001b[A\n",
            "\n",
            "model-00001-of-00002.safetensors:  36% 1.75G/4.90G [00:24<00:57, 54.7MB/s]\u001b[A\u001b[A\n",
            "model-00002-of-00002.safetensors:  65% 1.79G/2.77G [00:24<00:30, 32.2MB/s]\u001b[A\n",
            "\n",
            "model-00001-of-00002.safetensors:  36% 1.77G/4.90G [00:24<00:47, 66.1MB/s]\u001b[A\u001b[A\n",
            "model-00002-of-00002.safetensors:  66% 1.81G/2.77G [00:24<00:21, 43.7MB/s]\u001b[A\n",
            "\n",
            "model-00001-of-00002.safetensors:  37% 1.79G/4.90G [00:24<00:39, 79.5MB/s]\u001b[A\u001b[A\n",
            "model-00002-of-00002.safetensors:  67% 1.85G/2.77G [00:24<00:13, 67.1MB/s]\u001b[A\n",
            "model-00002-of-00002.safetensors:  68% 1.89G/2.77G [00:24<00:08, 105MB/s] \u001b[A\n",
            "\n",
            "model-00001-of-00002.safetensors:  37% 1.81G/4.90G [00:24<00:41, 74.7MB/s]\u001b[A\u001b[A\n",
            "model-00002-of-00002.safetensors:  69% 1.92G/2.77G [00:24<00:06, 130MB/s]\u001b[A\n",
            "model-00002-of-00002.safetensors:  70% 1.95G/2.77G [00:24<00:05, 154MB/s]\u001b[A\n",
            "\n",
            "model-00001-of-00002.safetensors:  37% 1.84G/4.90G [00:24<00:36, 85.0MB/s]\u001b[A\u001b[A\n",
            "\n",
            "model-00001-of-00002.safetensors:  38% 1.86G/4.90G [00:25<00:32, 92.9MB/s]\u001b[A\u001b[A\n",
            "model-00002-of-00002.safetensors:  72% 1.98G/2.77G [00:25<00:05, 137MB/s]\u001b[A\n",
            "\n",
            "model-00001-of-00002.safetensors:  38% 1.88G/4.90G [00:25<00:30, 98.1MB/s]\u001b[A\u001b[A\n",
            "model-00002-of-00002.safetensors:  72% 2.00G/2.77G [00:25<00:05, 145MB/s]\u001b[A\n",
            "\n",
            "model-00001-of-00002.safetensors:  39% 1.90G/4.90G [00:25<00:28, 106MB/s] \u001b[A\u001b[A\n",
            "\n",
            "model-00001-of-00002.safetensors:  39% 1.93G/4.90G [00:25<00:21, 138MB/s]\u001b[A\u001b[A\n",
            "model-00002-of-00002.safetensors:  73% 2.02G/2.77G [00:25<00:06, 108MB/s]\u001b[A\n",
            "\n",
            "model-00001-of-00002.safetensors:  40% 1.95G/4.90G [00:25<00:20, 145MB/s]\u001b[A\u001b[A\n",
            "model-00002-of-00002.safetensors:  74% 2.04G/2.77G [00:25<00:06, 110MB/s]\u001b[A\n",
            "\n",
            "model-00001-of-00002.safetensors:  40% 1.97G/4.90G [00:25<00:21, 136MB/s]\u001b[A\u001b[A\n",
            "model-00002-of-00002.safetensors:  75% 2.07G/2.77G [00:27<00:23, 29.7MB/s]\u001b[A\n",
            "\n",
            "model-00001-of-00002.safetensors:  41% 1.99G/4.90G [00:27<01:38, 29.6MB/s]\u001b[A\u001b[A\n",
            "model-00002-of-00002.safetensors:  76% 2.10G/2.77G [00:27<00:15, 44.0MB/s]\u001b[A\n",
            "\n",
            "model-00001-of-00002.safetensors:  41% 2.02G/4.90G [00:28<01:06, 43.6MB/s]\u001b[A\u001b[A\n",
            "model-00002-of-00002.safetensors:  77% 2.12G/2.77G [00:28<00:11, 55.2MB/s]\u001b[A\n",
            "\n",
            "model-00001-of-00002.safetensors:  42% 2.04G/4.90G [00:28<00:52, 54.6MB/s]\u001b[A\u001b[A\n",
            "model-00002-of-00002.safetensors:  77% 2.14G/2.77G [00:28<00:09, 67.8MB/s]\u001b[A\n",
            "\n",
            "model-00001-of-00002.safetensors:  42% 2.07G/4.90G [00:28<00:42, 66.8MB/s]\u001b[A\u001b[A\n",
            "model-00002-of-00002.safetensors:  78% 2.16G/2.77G [00:28<00:07, 79.9MB/s]\u001b[A\n",
            "model-00002-of-00002.safetensors:  79% 2.18G/2.77G [00:28<00:06, 96.2MB/s]\u001b[A\n",
            "\n",
            "model-00001-of-00002.safetensors:  43% 2.09G/4.90G [00:28<00:35, 78.3MB/s]\u001b[A\u001b[A\n",
            "model-00002-of-00002.safetensors:  80% 2.20G/2.77G [00:28<00:04, 114MB/s] \u001b[A\n",
            "\n",
            "model-00001-of-00002.safetensors:  43% 2.11G/4.90G [00:28<00:30, 93.0MB/s]\u001b[A\u001b[A\n",
            "model-00002-of-00002.safetensors:  80% 2.22G/2.77G [00:28<00:04, 130MB/s]\u001b[A\n",
            "\n",
            "model-00001-of-00002.safetensors:  43% 2.13G/4.90G [00:28<00:25, 109MB/s] \u001b[A\u001b[A\n",
            "model-00002-of-00002.safetensors:  81% 2.24G/2.77G [00:28<00:03, 143MB/s]\u001b[A\n",
            "\n",
            "model-00001-of-00002.safetensors:  44% 2.16G/4.90G [00:28<00:20, 133MB/s]\u001b[A\u001b[A\n",
            "model-00002-of-00002.safetensors:  82% 2.26G/2.77G [00:28<00:03, 158MB/s]\u001b[A\n",
            "\n",
            "model-00001-of-00002.safetensors:  44% 2.18G/4.90G [00:29<00:20, 133MB/s]\u001b[A\u001b[A\n",
            "model-00002-of-00002.safetensors:  83% 2.29G/2.77G [00:29<00:03, 137MB/s]\u001b[A\n",
            "\n",
            "model-00001-of-00002.safetensors:  45% 2.20G/4.90G [00:29<00:20, 130MB/s]\u001b[A\u001b[A\n",
            "model-00002-of-00002.safetensors:  83% 2.31G/2.77G [00:29<00:03, 133MB/s]\u001b[A\n",
            "\n",
            "model-00001-of-00002.safetensors:  45% 2.22G/4.90G [00:29<00:20, 132MB/s]\u001b[A\u001b[A\n",
            "model-00002-of-00002.safetensors:  84% 2.33G/2.77G [00:29<00:03, 131MB/s]\u001b[A\n",
            "\n",
            "model-00001-of-00002.safetensors:  46% 2.24G/4.90G [00:29<00:20, 127MB/s]\u001b[A\u001b[A\n",
            "model-00002-of-00002.safetensors:  85% 2.35G/2.77G [00:29<00:03, 122MB/s]\u001b[A\n",
            "\n",
            "model-00001-of-00002.safetensors:  46% 2.26G/4.90G [00:29<00:19, 137MB/s]\u001b[A\u001b[A\n",
            "model-00002-of-00002.safetensors:  86% 2.37G/2.77G [00:29<00:03, 128MB/s]\u001b[A\n",
            "\n",
            "model-00001-of-00002.safetensors:  47% 2.29G/4.90G [00:29<00:19, 131MB/s]\u001b[A\u001b[A\n",
            "model-00002-of-00002.safetensors:  86% 2.39G/2.77G [00:31<00:10, 34.4MB/s]\u001b[A\n",
            "\n",
            "model-00001-of-00002.safetensors:  47% 2.31G/4.90G [00:31<01:32, 27.9MB/s]\u001b[A\u001b[A\n",
            "model-00002-of-00002.safetensors:  87% 2.40G/2.77G [00:31<00:12, 29.8MB/s]\u001b[A\n",
            "\n",
            "model-00001-of-00002.safetensors:  47% 2.33G/4.90G [00:32<01:09, 36.9MB/s]\u001b[A\u001b[A\n",
            "model-00002-of-00002.safetensors:  88% 2.43G/2.77G [00:32<00:07, 46.9MB/s]\u001b[A\n",
            "\n",
            "model-00001-of-00002.safetensors:  48% 2.35G/4.90G [00:32<00:53, 47.7MB/s]\u001b[A\u001b[A\n",
            "model-00002-of-00002.safetensors:  89% 2.45G/2.77G [00:32<00:05, 57.8MB/s]\u001b[A\n",
            "\n",
            "model-00001-of-00002.safetensors:  48% 2.37G/4.90G [00:32<00:45, 55.8MB/s]\u001b[A\u001b[A\n",
            "model-00002-of-00002.safetensors:  89% 2.47G/2.77G [00:32<00:04, 67.7MB/s]\u001b[A\n",
            "model-00002-of-00002.safetensors:  90% 2.50G/2.77G [00:32<00:03, 80.7MB/s]\u001b[A\n",
            "\n",
            "model-00001-of-00002.safetensors:  49% 2.39G/4.90G [00:32<00:37, 67.3MB/s]\u001b[A\u001b[A\n",
            "model-00002-of-00002.safetensors:  91% 2.52G/2.77G [00:32<00:03, 71.8MB/s]\u001b[A\n",
            "\n",
            "model-00001-of-00002.safetensors:  49% 2.41G/4.90G [00:33<00:39, 62.7MB/s]\u001b[A\u001b[A\n",
            "model-00002-of-00002.safetensors:  92% 2.55G/2.77G [00:33<00:02, 99.6MB/s]\u001b[A\n",
            "\n",
            "model-00001-of-00002.safetensors:  50% 2.43G/4.90G [00:33<00:33, 74.5MB/s]\u001b[A\u001b[A\n",
            "model-00002-of-00002.safetensors:  93% 2.57G/2.77G [00:33<00:01, 105MB/s] \u001b[A\n",
            "\n",
            "model-00001-of-00002.safetensors:  50% 2.45G/4.90G [00:33<00:28, 86.5MB/s]\u001b[A\u001b[A\n",
            "model-00002-of-00002.safetensors:  94% 2.59G/2.77G [00:33<00:01, 107MB/s]\u001b[A\n",
            "\n",
            "model-00001-of-00002.safetensors:  50% 2.47G/4.90G [00:33<00:25, 94.6MB/s]\u001b[A\u001b[A\n",
            "model-00002-of-00002.safetensors:  94% 2.61G/2.77G [00:33<00:01, 114MB/s]\u001b[A\n",
            "\n",
            "model-00001-of-00002.safetensors:  51% 2.50G/4.90G [00:33<00:23, 101MB/s] \u001b[A\u001b[A\n",
            "\n",
            "model-00001-of-00002.safetensors:  51% 2.52G/4.90G [00:33<00:20, 114MB/s]\u001b[A\u001b[A\n",
            "model-00002-of-00002.safetensors:  95% 2.63G/2.77G [00:33<00:01, 108MB/s]\u001b[A\n",
            "\n",
            "model-00001-of-00002.safetensors:  52% 2.54G/4.90G [00:33<00:19, 122MB/s]\u001b[A\u001b[A\n",
            "model-00002-of-00002.safetensors:  96% 2.65G/2.77G [00:35<00:03, 35.2MB/s]\u001b[A\n",
            "\n",
            "model-00001-of-00002.safetensors:  52% 2.56G/4.90G [00:36<01:24, 27.8MB/s]\u001b[A\u001b[A\n",
            "\n",
            "model-00001-of-00002.safetensors:  53% 2.61G/4.90G [00:36<00:42, 54.1MB/s]\u001b[A\u001b[A\n",
            "model-00002-of-00002.safetensors:  96% 2.66G/2.77G [00:36<00:03, 26.7MB/s]\u001b[A\n",
            "\n",
            "model-00001-of-00002.safetensors:  54% 2.64G/4.90G [00:36<00:32, 70.6MB/s]\u001b[A\u001b[A\n",
            "model-00002-of-00002.safetensors:  97% 2.68G/2.77G [00:36<00:02, 36.2MB/s]\u001b[A\n",
            "\n",
            "model-00001-of-00002.safetensors:  55% 2.67G/4.90G [00:36<00:25, 88.0MB/s]\u001b[A\u001b[A\n",
            "model-00002-of-00002.safetensors:  97% 2.69G/2.77G [00:36<00:01, 41.4MB/s]\u001b[A\n",
            "\n",
            "model-00001-of-00002.safetensors:  55% 2.71G/4.90G [00:36<00:20, 106MB/s] \u001b[A\u001b[A\n",
            "model-00002-of-00002.safetensors:  98% 2.72G/2.77G [00:36<00:00, 56.8MB/s]\u001b[A\n",
            "\n",
            "model-00001-of-00002.safetensors:  56% 2.73G/4.90G [00:36<00:18, 116MB/s]\u001b[A\u001b[A\n",
            "model-00002-of-00002.safetensors:  99% 2.75G/2.77G [00:36<00:00, 85.7MB/s]\u001b[A\n",
            "\n",
            "model-00001-of-00002.safetensors:  56% 2.76G/4.90G [00:36<00:15, 135MB/s]\u001b[A\u001b[A\n",
            "model-00002-of-00002.safetensors: 100% 2.77G/2.77G [00:36<00:00, 74.8MB/s]\n",
            "\n",
            "\n",
            "model-00001-of-00002.safetensors:  57% 2.78G/4.90G [00:37<00:15, 134MB/s]\u001b[A\u001b[A\n",
            "\n",
            "model-00001-of-00002.safetensors:  57% 2.80G/4.90G [00:37<00:14, 147MB/s]\u001b[A\u001b[A\n",
            "\n",
            "model-00001-of-00002.safetensors:  58% 2.84G/4.90G [00:37<00:10, 195MB/s]\u001b[A\u001b[A\n",
            "\n",
            "model-00001-of-00002.safetensors:  59% 2.88G/4.90G [00:37<00:08, 230MB/s]\u001b[A\u001b[A\n",
            "\n",
            "model-00001-of-00002.safetensors:  59% 2.92G/4.90G [00:37<00:09, 206MB/s]\u001b[A\u001b[A\n",
            "\n",
            "model-00001-of-00002.safetensors:  60% 2.96G/4.90G [00:37<00:08, 243MB/s]\u001b[A\u001b[A\n",
            "\n",
            "model-00001-of-00002.safetensors:  61% 3.00G/4.90G [00:37<00:07, 267MB/s]\u001b[A\u001b[A\n",
            "\n",
            "model-00001-of-00002.safetensors:  62% 3.03G/4.90G [00:37<00:07, 254MB/s]\u001b[A\u001b[A\n",
            "\n",
            "model-00001-of-00002.safetensors:  62% 3.06G/4.90G [00:38<00:07, 242MB/s]\u001b[A\u001b[A\n",
            "\n",
            "model-00001-of-00002.safetensors:  63% 3.10G/4.90G [00:38<00:06, 261MB/s]\u001b[A\u001b[A\n",
            "\n",
            "model-00001-of-00002.safetensors:  64% 3.14G/4.90G [00:38<00:06, 253MB/s]\u001b[A\u001b[A\n",
            "\n",
            "model-00001-of-00002.safetensors:  65% 3.17G/4.90G [00:38<00:07, 229MB/s]\u001b[A\u001b[A\n",
            "\n",
            "model-00001-of-00002.safetensors:  65% 3.21G/4.90G [00:38<00:06, 249MB/s]\u001b[A\u001b[A\n",
            "\n",
            "model-00001-of-00002.safetensors:  66% 3.24G/4.90G [00:38<00:06, 258MB/s]\u001b[A\u001b[A\n",
            "\n",
            "model-00001-of-00002.safetensors:  67% 3.27G/4.90G [00:38<00:06, 258MB/s]\u001b[A\u001b[A\n",
            "\n",
            "model-00001-of-00002.safetensors:  67% 3.30G/4.90G [00:39<00:05, 268MB/s]\u001b[A\u001b[A\n",
            "\n",
            "model-00001-of-00002.safetensors:  68% 3.33G/4.90G [00:39<00:07, 216MB/s]\u001b[A\u001b[A\n",
            "\n",
            "model-00001-of-00002.safetensors:  69% 3.37G/4.90G [00:39<00:11, 134MB/s]\u001b[A\u001b[A\n",
            "\n",
            "model-00001-of-00002.safetensors:  69% 3.39G/4.90G [00:40<00:14, 105MB/s]\u001b[A\u001b[A\n",
            "\n",
            "model-00001-of-00002.safetensors:  70% 3.44G/4.90G [00:40<00:09, 157MB/s]\u001b[A\u001b[A\n",
            "\n",
            "model-00001-of-00002.safetensors:  71% 3.48G/4.90G [00:40<00:07, 199MB/s]\u001b[A\u001b[A\n",
            "\n",
            "model-00001-of-00002.safetensors:  72% 3.52G/4.90G [00:40<00:05, 235MB/s]\u001b[A\u001b[A\n",
            "\n",
            "model-00001-of-00002.safetensors:  73% 3.57G/4.90G [00:40<00:05, 266MB/s]\u001b[A\u001b[A\n",
            "\n",
            "model-00001-of-00002.safetensors:  74% 3.61G/4.90G [00:40<00:05, 250MB/s]\u001b[A\u001b[A\n",
            "\n",
            "model-00001-of-00002.safetensors:  74% 3.65G/4.90G [00:40<00:04, 285MB/s]\u001b[A\u001b[A\n",
            "\n",
            "model-00001-of-00002.safetensors:  75% 3.69G/4.90G [00:40<00:04, 275MB/s]\u001b[A\u001b[A\n",
            "\n",
            "model-00001-of-00002.safetensors:  76% 3.72G/4.90G [00:41<00:04, 282MB/s]\u001b[A\u001b[A\n",
            "\n",
            "model-00001-of-00002.safetensors:  77% 3.76G/4.90G [00:41<00:03, 313MB/s]\u001b[A\u001b[A\n",
            "\n",
            "model-00001-of-00002.safetensors:  78% 3.81G/4.90G [00:41<00:03, 295MB/s]\u001b[A\u001b[A\n",
            "\n",
            "model-00001-of-00002.safetensors:  78% 3.85G/4.90G [00:41<00:03, 304MB/s]\u001b[A\u001b[A\n",
            "\n",
            "model-00001-of-00002.safetensors:  79% 3.89G/4.90G [00:41<00:03, 269MB/s]\u001b[A\u001b[A\n",
            "\n",
            "model-00001-of-00002.safetensors:  80% 3.92G/4.90G [00:41<00:04, 214MB/s]\u001b[A\u001b[A\n",
            "\n",
            "model-00001-of-00002.safetensors:  81% 3.95G/4.90G [00:42<00:04, 212MB/s]\u001b[A\u001b[A\n",
            "\n",
            "model-00001-of-00002.safetensors:  81% 3.98G/4.90G [00:42<00:04, 201MB/s]\u001b[A\u001b[A\n",
            "\n",
            "model-00001-of-00002.safetensors:  82% 4.02G/4.90G [00:42<00:05, 152MB/s]\u001b[A\u001b[A\n",
            "\n",
            "model-00001-of-00002.safetensors:  82% 4.04G/4.90G [00:43<00:14, 60.2MB/s]\u001b[A\u001b[A\n",
            "\n",
            "model-00001-of-00002.safetensors:  83% 4.07G/4.90G [00:43<00:10, 79.8MB/s]\u001b[A\u001b[A\n",
            "\n",
            "model-00001-of-00002.safetensors:  83% 4.09G/4.90G [00:43<00:08, 92.0MB/s]\u001b[A\u001b[A\n",
            "\n",
            "model-00001-of-00002.safetensors:  84% 4.11G/4.90G [00:44<00:07, 104MB/s] \u001b[A\u001b[A\n",
            "\n",
            "model-00001-of-00002.safetensors:  85% 4.15G/4.90G [00:44<00:05, 146MB/s]\u001b[A\u001b[A\n",
            "\n",
            "model-00001-of-00002.safetensors:  85% 4.18G/4.90G [00:44<00:04, 169MB/s]\u001b[A\u001b[A\n",
            "\n",
            "model-00001-of-00002.safetensors:  86% 4.22G/4.90G [00:44<00:03, 194MB/s]\u001b[A\u001b[A\n",
            "\n",
            "model-00001-of-00002.safetensors:  87% 4.25G/4.90G [00:44<00:03, 217MB/s]\u001b[A\u001b[A\n",
            "\n",
            "model-00001-of-00002.safetensors:  87% 4.29G/4.90G [00:44<00:02, 242MB/s]\u001b[A\u001b[A\n",
            "\n",
            "model-00001-of-00002.safetensors:  88% 4.32G/4.90G [00:44<00:02, 218MB/s]\u001b[A\u001b[A\n",
            "\n",
            "model-00001-of-00002.safetensors:  89% 4.35G/4.90G [00:44<00:02, 225MB/s]\u001b[A\u001b[A\n",
            "\n",
            "model-00001-of-00002.safetensors:  89% 4.38G/4.90G [00:45<00:02, 242MB/s]\u001b[A\u001b[A\n",
            "\n",
            "model-00001-of-00002.safetensors:  90% 4.41G/4.90G [00:45<00:01, 249MB/s]\u001b[A\u001b[A\n",
            "\n",
            "model-00001-of-00002.safetensors:  91% 4.45G/4.90G [00:45<00:01, 255MB/s]\u001b[A\u001b[A\n",
            "\n",
            "model-00001-of-00002.safetensors:  92% 4.49G/4.90G [00:45<00:01, 277MB/s]\u001b[A\u001b[A\n",
            "\n",
            "model-00001-of-00002.safetensors:  92% 4.52G/4.90G [00:45<00:01, 264MB/s]\u001b[A\u001b[A\n",
            "\n",
            "model-00001-of-00002.safetensors:  93% 4.55G/4.90G [00:45<00:01, 253MB/s]\u001b[A\u001b[A\n",
            "\n",
            "model-00001-of-00002.safetensors:  93% 4.58G/4.90G [00:45<00:01, 245MB/s]\u001b[A\u001b[A\n",
            "\n",
            "model-00001-of-00002.safetensors:  94% 4.61G/4.90G [00:45<00:01, 249MB/s]\u001b[A\u001b[A\n",
            "\n",
            "model-00001-of-00002.safetensors:  95% 4.65G/4.90G [00:46<00:01, 206MB/s]\u001b[A\u001b[A\n",
            "\n",
            "model-00001-of-00002.safetensors:  95% 4.68G/4.90G [00:50<00:10, 22.1MB/s]\u001b[A\u001b[A\n",
            "\n",
            "model-00001-of-00002.safetensors:  96% 4.72G/4.90G [00:50<00:05, 33.3MB/s]\u001b[A\u001b[A\n",
            "\n",
            "model-00001-of-00002.safetensors:  97% 4.76G/4.90G [00:50<00:02, 48.0MB/s]\u001b[A\u001b[A\n",
            "\n",
            "model-00001-of-00002.safetensors:  98% 4.79G/4.90G [00:50<00:01, 61.4MB/s]\u001b[A\u001b[A\n",
            "\n",
            "model-00001-of-00002.safetensors:  98% 4.82G/4.90G [00:51<00:01, 78.6MB/s]\u001b[A\u001b[A\n",
            "\n",
            "model-00001-of-00002.safetensors:  99% 4.85G/4.90G [00:51<00:00, 99.5MB/s]\u001b[A\u001b[A\n",
            "\n",
            "model-00001-of-00002.safetensors: 100% 4.90G/4.90G [00:51<00:00, 95.5MB/s]\n",
            "Fetching 2 files: 100% 2/2 [00:51<00:00, 25.81s/it]\n",
            "Loading checkpoint shards: 100% 2/2 [00:00<00:00,  2.94it/s]\n",
            "generation_config.json: 100% 168/168 [00:00<00:00, 1.21MB/s]\n",
            "tokenizer_config.json: 100% 2.93k/2.93k [00:00<00:00, 20.8MB/s]\n",
            "vocab.json: 100% 3.91M/3.91M [00:03<00:00, 1.18MB/s]\n",
            "merges.txt: 100% 2.42M/2.42M [00:00<00:00, 5.29MB/s]\n",
            "tokenizer.json: 100% 15.5M/15.5M [00:00<00:00, 192MB/s]\n",
            "added_tokens.json: 100% 249/249 [00:00<00:00, 1.76MB/s]\n",
            "special_tokens_map.json: 100% 587/587 [00:00<00:00, 4.58MB/s]\n",
            "Device set to use cuda\n",
            "NLTK Punkt data checked/downloaded.\n",
            "Database 'chat_feedback.db' initialized successfully.\n",
            "NLTK Punkt data checked/downloaded.\n",
            "Database 'chat_feedback.db' initialized successfully.\n",
            "Generated response in 6.42s\n",
            "NLTK Punkt data checked/downloaded.\n",
            "Database 'chat_feedback.db' initialized successfully.\n"
          ]
        },
        {
          "output_type": "stream",
          "name": "stderr",
          "text": [
            "WARNING:pyngrok.process.ngrok:t=2025-04-23T06:45:05+0000 lvl=warn msg=\"Stopping forwarder\" name=http-8501-d7f8dafb-206f-4992-9908-3c072f9fb86f acceptErr=\"failed to accept connection: Listener closed\"\n",
            "WARNING:pyngrok.process.ngrok:t=2025-04-23T06:45:05+0000 lvl=warn msg=\"Error restarting forwarder\" name=http-8501-d7f8dafb-206f-4992-9908-3c072f9fb86f err=\"failed to start tunnel: session closed\"\n"
          ]
        },
        {
          "output_type": "stream",
          "name": "stdout",
          "text": [
            "\u001b[34m  Stopping...\u001b[0m\n",
            "\u001b[34m  Stopping...\u001b[0m\n",
            "^C\n"
          ]
        }
      ],
      "source": [
        "from pyngrok import ngrok\n",
        "\n",
        "public_url = ngrok.connect(8501).public_url\n",
        "print(f\"公開URL: {public_url}\")\n",
        "!streamlit run app.py"
      ]
    },
    {
      "cell_type": "markdown",
      "metadata": {
        "id": "Oc-gTx2DAIc6"
      },
      "source": [
        "アプリケーションの機能としては、チャット機能や履歴閲覧があります。\n",
        "\n",
        "これらの機能を実現するためには、StreamlitによるUI部分だけではなく、SQLiteを使用したチャット履歴の保存やLLMのモデルを呼び出した推論などの処理を組み合わせることで実現しています。\n",
        "\n",
        "- **`app.py`**: アプリケーションのエントリーポイント。チャット機能、履歴閲覧、サンプルデータ管理のUIを提供します。\n",
        "- **`ui.py`**: チャットページや履歴閲覧ページなど、アプリケーションのUIロジックを管理します。\n",
        "- **`llm.py`**: LLMモデルのロードとテキスト生成を行うモジュール。\n",
        "- **`database.py`**: SQLiteデータベースを使用してチャット履歴やフィードバックを保存・管理します。\n",
        "- **`metrics.py`**: BLEUスコアやコサイン類似度など、回答の評価指標を計算するモジュール。\n",
        "- **`data.py`**: サンプルデータの作成やデータベースの初期化を行うモジュール。\n",
        "- **`config.py`**: アプリケーションの設定（モデル名やデータベースファイル名）を管理します。\n",
        "- **`requirements.txt`**: このアプリケーションを実行するために必要なPythonパッケージ。"
      ]
    },
    {
      "cell_type": "markdown",
      "metadata": {
        "id": "Xvm8sWFPELSP"
      },
      "source": [
        "後片付けとして、使う必要のないngrokのトンネルを削除します。"
      ]
    },
    {
      "cell_type": "code",
      "execution_count": 23,
      "metadata": {
        "id": "WFJC2TmZELSP"
      },
      "outputs": [],
      "source": [
        "from pyngrok import ngrok\n",
        "ngrok.kill()"
      ]
    },
    {
      "cell_type": "markdown",
      "metadata": {
        "id": "rUXhIzV7ELSP"
      },
      "source": [
        "# 03_FastAPI\n",
        "\n",
        "ディレクトリ「03_FastAPI」に移動します。"
      ]
    },
    {
      "cell_type": "code",
      "execution_count": 36,
      "metadata": {
        "id": "4ejjDLxr3kfC",
        "outputId": "91c84c1d-437a-43e4-8975-b936462dc3c0",
        "colab": {
          "base_uri": "https://localhost:8080/"
        }
      },
      "outputs": [
        {
          "output_type": "stream",
          "name": "stdout",
          "text": [
            "/content/lecture-ai-engineering/day1/03_FastAPI\n"
          ]
        }
      ],
      "source": [
        "%cd /content/lecture-ai-engineering/day1/03_FastAPI"
      ]
    },
    {
      "cell_type": "markdown",
      "metadata": {
        "id": "f45TDsNzELSQ"
      },
      "source": [
        "必要なライブラリをインストールします。"
      ]
    },
    {
      "cell_type": "code",
      "execution_count": 37,
      "metadata": {
        "id": "9uv6glCz5a7Z"
      },
      "outputs": [],
      "source": [
        "%%capture\n",
        "!pip install -r requirements.txt"
      ]
    },
    {
      "cell_type": "markdown",
      "metadata": {
        "id": "JfrmE2VmELSQ"
      },
      "source": [
        "ngrokとhuggigfaceのトークンを使用して、認証を行います。"
      ]
    },
    {
      "cell_type": "code",
      "execution_count": 38,
      "metadata": {
        "id": "ELzWhMFORRIO",
        "outputId": "b3b5971a-d056-4b70-daf8-f60bd1b0e055",
        "colab": {
          "base_uri": "https://localhost:8080/"
        }
      },
      "outputs": [
        {
          "output_type": "stream",
          "name": "stdout",
          "text": [
            "Authtoken saved to configuration file: /root/.config/ngrok/ngrok.yml\n",
            "The token has not been saved to the git credentials helper. Pass `add_to_git_credential=True` in this function directly or `--add-to-git-credential` if using via `huggingface-cli` if you want to set the git credential as well.\n",
            "Token is valid (permission: read).\n",
            "The token `LLMstar` has been saved to /root/.cache/huggingface/stored_tokens\n",
            "Your token has been saved to /root/.cache/huggingface/token\n",
            "Login successful.\n",
            "The current active token is: `LLMstar`\n"
          ]
        }
      ],
      "source": [
        "!ngrok authtoken $$NGROK_TOKEN\n",
        "!huggingface-cli login --token $$HUGGINGFACE_TOKEN"
      ]
    },
    {
      "cell_type": "markdown",
      "metadata": {
        "id": "t-wztc2CELSQ"
      },
      "source": [
        "アプリを起動します。\n",
        "\n",
        "「02_streamlit_app」から続けて「03_FastAPI」を実行している場合は、モデルのダウンロードが済んでいるため、すぐにサービスが立ち上がります。\n",
        "\n",
        "「03_FastAPI」のみを実行している場合は、初回の起動時にモデルのダウンロードが始まるので、モデルのダウンロードが終わるまで数分間待ちましょう。"
      ]
    },
    {
      "cell_type": "code",
      "execution_count": 40,
      "metadata": {
        "id": "meQ4SwISn3IQ",
        "outputId": "ac411766-382e-47c3-b6f3-026ff522a56d",
        "colab": {
          "base_uri": "https://localhost:8080/"
        }
      },
      "outputs": [
        {
          "output_type": "stream",
          "name": "stdout",
          "text": [
            "^C\n"
          ]
        }
      ],
      "source": [
        "!python app.py"
      ]
    },
    {
      "cell_type": "markdown",
      "metadata": {
        "id": "RLubjIhbELSR"
      },
      "source": [
        "FastAPIが起動すると、APIとクライアントが通信するためのURL（エンドポイント）が作られます。\n",
        "\n",
        "URLが作られるのと合わせて、Swagger UIというWebインターフェースが作られます。\n",
        "\n",
        "Swagger UIにアクセスすることで、APIの仕様を確認できたり、APIをテストすることができます。\n",
        "\n",
        "Swagger UIを利用することで、APIを通してLLMを動かしてみましょう。"
      ]
    },
    {
      "cell_type": "markdown",
      "metadata": {
        "id": "XgumW3mGELSR"
      },
      "source": [
        "後片付けとして、使う必要のないngrokのトンネルを削除します。"
      ]
    },
    {
      "cell_type": "code",
      "execution_count": 41,
      "metadata": {
        "id": "RJymTZio-WPJ"
      },
      "outputs": [],
      "source": [
        "from pyngrok import ngrok\n",
        "ngrok.kill()"
      ]
    },
    {
      "cell_type": "code",
      "source": [
        "!git status"
      ],
      "metadata": {
        "id": "CudnkrEnSEfB",
        "outputId": "879ccc34-4e3c-4a02-eea2-7798ba76bb3e",
        "colab": {
          "base_uri": "https://localhost:8080/"
        }
      },
      "execution_count": 24,
      "outputs": [
        {
          "output_type": "stream",
          "name": "stdout",
          "text": [
            "On branch master\n",
            "Your branch is up to date with 'origin/master'.\n",
            "\n",
            "Changes not staged for commit:\n",
            "  (use \"git add <file>...\" to update what will be committed)\n",
            "  (use \"git restore <file>...\" to discard changes in working directory)\n",
            "\t\u001b[31mmodified:   app.py\u001b[m\n",
            "\t\u001b[31mmodified:   config.py\u001b[m\n",
            "\n",
            "no changes added to commit (use \"git add\" and/or \"git commit -a\")\n"
          ]
        }
      ]
    },
    {
      "cell_type": "code",
      "source": [
        "!git add config.py"
      ],
      "metadata": {
        "id": "KcoCNNm6ZPeK"
      },
      "execution_count": 25,
      "outputs": []
    },
    {
      "cell_type": "code",
      "source": [],
      "metadata": {
        "id": "uIiLZVBnZZU4"
      },
      "execution_count": 27,
      "outputs": []
    },
    {
      "cell_type": "code",
      "source": [],
      "metadata": {
        "id": "-WJXOJcmZerW"
      },
      "execution_count": 28,
      "outputs": []
    },
    {
      "cell_type": "code",
      "source": [
        "!git commit -m\"change model to phi4-mini\""
      ],
      "metadata": {
        "id": "dxY3GZ2hZSrY",
        "outputId": "5dce2758-a448-41e5-c003-7dd8b088238f",
        "colab": {
          "base_uri": "https://localhost:8080/"
        }
      },
      "execution_count": 29,
      "outputs": [
        {
          "output_type": "stream",
          "name": "stdout",
          "text": [
            "[master f0ef284] change model to phi4-mini\n",
            " 1 file changed, 1 insertion(+), 1 deletion(-)\n"
          ]
        }
      ]
    },
    {
      "cell_type": "code",
      "source": [
        "!git push origin master"
      ],
      "metadata": {
        "id": "vmq2EZjoZkGv",
        "outputId": "f5e9f994-906f-4dde-cb76-6f86f848104d",
        "colab": {
          "base_uri": "https://localhost:8080/"
        }
      },
      "execution_count": 30,
      "outputs": [
        {
          "output_type": "stream",
          "name": "stdout",
          "text": [
            "fatal: could not read Username for 'https://github.com': No such device or address\n"
          ]
        }
      ]
    }
  ],
  "metadata": {
    "colab": {
      "provenance": [],
      "gpuType": "T4"
    },
    "kernelspec": {
      "display_name": "Python 3",
      "name": "python3"
    },
    "language_info": {
      "name": "python"
    },
    "accelerator": "GPU"
  },
  "nbformat": 4,
  "nbformat_minor": 0
}